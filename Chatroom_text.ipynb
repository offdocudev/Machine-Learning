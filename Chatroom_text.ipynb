{
  "nbformat": 4,
  "nbformat_minor": 0,
  "metadata": {
    "colab": {
      "name": "Chatroom text.ipynb",
      "version": "0.3.2",
      "provenance": [],
      "include_colab_link": true
    },
    "kernelspec": {
      "name": "python3",
      "display_name": "Python 3"
    },
    "accelerator": "GPU"
  },
  "cells": [
    {
      "cell_type": "markdown",
      "metadata": {
        "id": "view-in-github",
        "colab_type": "text"
      },
      "source": [
        "<a href=\"https://colab.research.google.com/github/offdocudev/Machine-Learning/blob/master/Chatroom_text.ipynb\" target=\"_parent\"><img src=\"https://colab.research.google.com/assets/colab-badge.svg\" alt=\"Open In Colab\"/></a>"
      ]
    },
    {
      "cell_type": "code",
      "metadata": {
        "id": "phjXrqsGKtvg",
        "colab_type": "code",
        "colab": {}
      },
      "source": [
        ""
      ],
      "execution_count": 0,
      "outputs": []
    },
    {
      "cell_type": "code",
      "metadata": {
        "id": "aDN4mlICKtqu",
        "colab_type": "code",
        "outputId": "2fe7cf60-0153-45c8-a54d-2947247d6cd3",
        "colab": {
          "base_uri": "https://localhost:8080/",
          "height": 292
        }
      },
      "source": [
        "import keras\n",
        "import tensorflow as tf\n",
        "import matplotlib.pyplot as plt\n",
        "import numpy as np \n",
        "import pandas as pd\n",
        "import math\n",
        "from IPython.display import clear_output\n",
        "\n",
        "# DATA - https://www.kaggle.com/c/digit-recognizer/data\n",
        "# Kaggle \n",
        "! pip install kaggle\n",
        "! mkdir ~/.kaggle\n",
        "#! cp kaggle.json ~/.kaggle/\n",
        "# Or manually copy credentials in kaggle.json file \n",
        "\n",
        "!  echo '{\"username\":\"offdocudev\",\"key\":\"a6893bc3aa38aec8a688959083e82644\"}' > /root/.kaggle/kaggle.json\n",
        "\n",
        "\n",
        "! cat /root/.kaggle/kaggle.json\n",
        "! chmod 600 /root/.kaggle/kaggle.json\n",
        "\n",
        "#################### DOWNLOAD AND UNZIP FILE SAVED IN DRIVE ####################\n",
        "\n",
        "!pip install -U -q PyDrive\n",
        "\n",
        "# HERE YOUR FILE ID ( GET IT WITH THE SHARING URL: https://drive.google.com/open?id=1Soh3zXLXt2lT7b_3FcWWyeOCC7SnOxK0 )\n",
        "zip_id = '1Soh3zXLXt2lT7b_3FcWWyeOCC7SnOxK0'\n",
        "\n",
        "from pydrive.auth import GoogleAuth\n",
        "from pydrive.drive import GoogleDrive\n",
        "from google.colab import auth\n",
        "from oauth2client.client import GoogleCredentials\n",
        "import zipfile, os\n",
        "\n",
        "# 1. Authenticate and create the PyDrive client.\n",
        "auth.authenticate_user()\n",
        "gauth = GoogleAuth()\n",
        "gauth.credentials = GoogleCredentials.get_application_default()\n",
        "drive = GoogleDrive(gauth)\n",
        "\n",
        "\n"
      ],
      "execution_count": 0,
      "outputs": [
        {
          "output_type": "stream",
          "text": [
            "Using TensorFlow backend.\n"
          ],
          "name": "stderr"
        },
        {
          "output_type": "stream",
          "text": [
            "Requirement already satisfied: kaggle in /usr/local/lib/python3.6/dist-packages (1.5.3)\n",
            "Requirement already satisfied: urllib3<1.25,>=1.21.1 in /usr/local/lib/python3.6/dist-packages (from kaggle) (1.22)\n",
            "Requirement already satisfied: six>=1.10 in /usr/local/lib/python3.6/dist-packages (from kaggle) (1.11.0)\n",
            "Requirement already satisfied: certifi in /usr/local/lib/python3.6/dist-packages (from kaggle) (2019.3.9)\n",
            "Requirement already satisfied: python-dateutil in /usr/local/lib/python3.6/dist-packages (from kaggle) (2.5.3)\n",
            "Requirement already satisfied: requests in /usr/local/lib/python3.6/dist-packages (from kaggle) (2.18.4)\n",
            "Requirement already satisfied: tqdm in /usr/local/lib/python3.6/dist-packages (from kaggle) (4.28.1)\n",
            "Requirement already satisfied: python-slugify in /usr/local/lib/python3.6/dist-packages (from kaggle) (3.0.1)\n",
            "Requirement already satisfied: chardet<3.1.0,>=3.0.2 in /usr/local/lib/python3.6/dist-packages (from requests->kaggle) (3.0.4)\n",
            "Requirement already satisfied: idna<2.7,>=2.5 in /usr/local/lib/python3.6/dist-packages (from requests->kaggle) (2.6)\n",
            "Requirement already satisfied: text-unidecode==1.2 in /usr/local/lib/python3.6/dist-packages (from python-slugify->kaggle) (1.2)\n",
            "{\"username\":\"offdocudev\",\"key\":\"a6893bc3aa38aec8a688959083e82644\"}\n",
            "\u001b[K    100% |████████████████████████████████| 993kB 20.9MB/s \n",
            "\u001b[?25h  Building wheel for PyDrive (setup.py) ... \u001b[?25ldone\n",
            "\u001b[?25h"
          ],
          "name": "stdout"
        }
      ]
    },
    {
      "cell_type": "code",
      "metadata": {
        "id": "KADi7l9DKIC4",
        "colab_type": "code",
        "outputId": "22e561c8-aa99-45b1-8248-42c2598c6f11",
        "colab": {
          "base_uri": "https://localhost:8080/",
          "height": 68
        }
      },
      "source": [
        "!kaggle datasets download -d freecodecamp/all-posts-public-main-chatroom"
      ],
      "execution_count": 0,
      "outputs": [
        {
          "output_type": "stream",
          "text": [
            "Downloading all-posts-public-main-chatroom.zip to /content\n",
            " 97% 581M/597M [00:05<00:00, 116MB/s]\n",
            "100% 597M/597M [00:05<00:00, 116MB/s]\n"
          ],
          "name": "stdout"
        }
      ]
    },
    {
      "cell_type": "code",
      "metadata": {
        "id": "iAtm0S9dKtAb",
        "colab_type": "code",
        "colab": {}
      },
      "source": [
        "zip_ref = zipfile.ZipFile('all-posts-public-main-chatroom.zip','r')\n",
        "zip_ref.extractall()\n",
        "zip_ref.close()"
      ],
      "execution_count": 0,
      "outputs": []
    },
    {
      "cell_type": "code",
      "metadata": {
        "id": "tfVtsI8xLrMp",
        "colab_type": "code",
        "colab": {}
      },
      "source": [
        "import pandas as pd\n",
        "import numpy as np\n",
        "\n",
        "chat = pd.read_csv('freecodecamp_casual_chatroom.csv', usecols = ['fromUser.id', 'text'])"
      ],
      "execution_count": 0,
      "outputs": []
    },
    {
      "cell_type": "code",
      "metadata": {
        "id": "zr7iL5UjL6Xq",
        "colab_type": "code",
        "outputId": "020e5532-ec60-4111-b824-95fb4013fa93",
        "colab": {
          "base_uri": "https://localhost:8080/",
          "height": 204
        }
      },
      "source": [
        "chat.head()"
      ],
      "execution_count": 0,
      "outputs": [
        {
          "output_type": "execute_result",
          "data": {
            "text/html": [
              "<div>\n",
              "<style scoped>\n",
              "    .dataframe tbody tr th:only-of-type {\n",
              "        vertical-align: middle;\n",
              "    }\n",
              "\n",
              "    .dataframe tbody tr th {\n",
              "        vertical-align: top;\n",
              "    }\n",
              "\n",
              "    .dataframe thead th {\n",
              "        text-align: right;\n",
              "    }\n",
              "</style>\n",
              "<table border=\"1\" class=\"dataframe\">\n",
              "  <thead>\n",
              "    <tr style=\"text-align: right;\">\n",
              "      <th></th>\n",
              "      <th>fromUser.id</th>\n",
              "      <th>text</th>\n",
              "    </tr>\n",
              "  </thead>\n",
              "  <tbody>\n",
              "    <tr>\n",
              "      <th>0</th>\n",
              "      <td>546fd99cdb8155e6700d6ec8</td>\n",
              "      <td>no legumes either</td>\n",
              "    </tr>\n",
              "    <tr>\n",
              "      <th>1</th>\n",
              "      <td>54a47e0cdb8155e6700e486e</td>\n",
              "      <td>That bullet proof coffee sounds insane.</td>\n",
              "    </tr>\n",
              "    <tr>\n",
              "      <th>2</th>\n",
              "      <td>54a47e0cdb8155e6700e486e</td>\n",
              "      <td>That guy has huge eyes.</td>\n",
              "    </tr>\n",
              "    <tr>\n",
              "      <th>3</th>\n",
              "      <td>546fd99cdb8155e6700d6ec8</td>\n",
              "      <td>@janetwalters008 It is. but it works. some peo...</td>\n",
              "    </tr>\n",
              "    <tr>\n",
              "      <th>4</th>\n",
              "      <td>54a44bbbdb8155e6700e47de</td>\n",
              "      <td>They guy that came up with the idea is kind of...</td>\n",
              "    </tr>\n",
              "  </tbody>\n",
              "</table>\n",
              "</div>"
            ],
            "text/plain": [
              "                fromUser.id                                               text\n",
              "0  546fd99cdb8155e6700d6ec8                                  no legumes either\n",
              "1  54a47e0cdb8155e6700e486e            That bullet proof coffee sounds insane.\n",
              "2  54a47e0cdb8155e6700e486e                            That guy has huge eyes.\n",
              "3  546fd99cdb8155e6700d6ec8  @janetwalters008 It is. but it works. some peo...\n",
              "4  54a44bbbdb8155e6700e47de  They guy that came up with the idea is kind of..."
            ]
          },
          "metadata": {
            "tags": []
          },
          "execution_count": 5
        }
      ]
    },
    {
      "cell_type": "code",
      "metadata": {
        "id": "9FaQVWMGNMa9",
        "colab_type": "code",
        "colab": {}
      },
      "source": [
        "chat = chat[chat['fromUser.id'] != '55b977f00fc9f982beab7883']"
      ],
      "execution_count": 0,
      "outputs": []
    },
    {
      "cell_type": "code",
      "metadata": {
        "id": "uheOMSKPNQCY",
        "colab_type": "code",
        "outputId": "21fe2e3b-b213-4d32-efff-db7d7c5dedc2",
        "colab": {
          "base_uri": "https://localhost:8080/",
          "height": 682
        }
      },
      "source": [
        "import matplotlib.pyplot as plt\n",
        "%matplotlib inline\n",
        "\n",
        "f,g = plt.subplots(figsize = (12,9))\n",
        "chat['fromUser.id'].value_counts().head(10).plot.bar(color = 'green')\n",
        "g.set_xticklabels(g.get_xticklabels(),rotation = 60)\n",
        "plt.title('Most Active Users')\n",
        "plt.show()"
      ],
      "execution_count": 0,
      "outputs": [
        {
          "output_type": "display_data",
          "data": {
            "image/png": "[encoded data removed]",
            "text/plain": [
              "<Figure size 864x648 with 1 Axes>"
            ]
          },
          "metadata": {
            "tags": []
          }
        }
      ]
    },
    {
      "cell_type": "code",
      "metadata": {
        "id": "nu2HX9-kNxw3",
        "colab_type": "code",
        "outputId": "ddee8483-1fe6-4077-f353-4028d79d31d6",
        "colab": {
          "base_uri": "https://localhost:8080/",
          "height": 374
        }
      },
      "source": [
        "chat[chat['fromUser.id'] =='55a7c9e08a7b72f55c3f991e'].text.head(20)"
      ],
      "execution_count": 0,
      "outputs": [
        {
          "output_type": "execute_result",
          "data": {
            "text/plain": [
              "224937    Hello... I heard about Free Code Camp via Life...\n",
              "224977    So, just going through the prescribed steps (h...\n",
              "225004    Looking for some idea on the average amount of...\n",
              "225053    ok, I found the documentation (I'm new) on the...\n",
              "225099    at what point does pair coding come into the p...\n",
              "247053    do some amount of BASH here as well. Have to s...\n",
              "247090    With all of the various frameworks (even some ...\n",
              "247105    I'd like to see more variety in design as well...\n",
              "247114    does the sameness (not specifically Bootstrap,...\n",
              "247126    I've found that compiling a list (your own + l...\n",
              "247127                                       syntax that is\n",
              "253298    I find geany to be pretty solid (as far as edi...\n",
              "253324    I'd imagine if you had experience programming ...\n",
              "253325                                            edit: too\n",
              "253912    I think (in addition to Monospace vs. Monotype...\n",
              "253918          good to hear. CSS is more forgiving than js\n",
              "253924    Very true. Sloppy code not only affect you, bu...\n",
              "253926                                              affects\n",
              "253931    Why do you have to loop through each character...\n",
              "253933              oh, I see (not critique, just curious )\n",
              "Name: text, dtype: object"
            ]
          },
          "metadata": {
            "tags": []
          },
          "execution_count": 8
        }
      ]
    },
    {
      "cell_type": "code",
      "metadata": {
        "id": "Ox7Ux_GWOHfz",
        "colab_type": "code",
        "outputId": "d8f77ae6-40fa-407d-d057-69da3d7d606f",
        "colab": {
          "base_uri": "https://localhost:8080/",
          "height": 51
        }
      },
      "source": [
        "user = chat[chat['fromUser.id'] == '55a7c9e08a7b72f55c3f991e'].text\n",
        "\n",
        "n_messages = len(user)\n",
        "n_chars = len(' '.join(map(str,user)))\n",
        "print(\"55a7c9e08a7b72f55c3f991e accounts for %d messages\" % n_messages)\n",
        "print(\"Their messages add up to %d characters\" % n_chars)"
      ],
      "execution_count": 0,
      "outputs": [
        {
          "output_type": "stream",
          "text": [
            "55a7c9e08a7b72f55c3f991e accounts for 141362 messages\n",
            "Their messages add up to 7407104 characters\n"
          ],
          "name": "stdout"
        }
      ]
    },
    {
      "cell_type": "code",
      "metadata": {
        "id": "oiKVHxesOdhP",
        "colab_type": "code",
        "outputId": "4b0048ba-1b76-4641-c2cf-b8b131e9f589",
        "colab": {
          "base_uri": "https://localhost:8080/",
          "height": 34
        }
      },
      "source": [
        "sample_size = int(len(user) * 0.2)\n",
        "\n",
        "user = user[:sample_size]\n",
        "user = ' '.join(map(str,user)).lower()\n",
        "user[:100]\n",
        "\n",
        "\n",
        "chars = sorted(list(set(user)))\n",
        "print('Characters : ',len(chars))\n",
        "\n",
        "char_indices = dict((c,i) for i,c in enumerate(chars))\n",
        "indices_char = dict((i,c) for i,c in enumerate(chars))"
      ],
      "execution_count": 0,
      "outputs": [
        {
          "output_type": "stream",
          "text": [
            "Characters :  149\n"
          ],
          "name": "stdout"
        }
      ]
    },
    {
      "cell_type": "code",
      "metadata": {
        "id": "Y1YstBGCO3YY",
        "colab_type": "code",
        "outputId": "47d6fa00-ff20-4f01-c7ce-453e0cc52a75",
        "colab": {
          "base_uri": "https://localhost:8080/",
          "height": 105
        }
      },
      "source": [
        "maxlen = 40\n",
        "step = 3\n",
        "sentences = []\n",
        "next_chars = []\n",
        "\n",
        "\n",
        "for i in range(0,len(user) - maxlen,step):\n",
        "  sentences.append(user[i: i+maxlen])\n",
        "  next_chars.append(user[i+maxlen])\n",
        "\n",
        "print('Number of Sequences = ',len(sentences),'\\n',sentences[:5],'\\n')\n",
        "print('Char : ',next_chars[:5])"
      ],
      "execution_count": 0,
      "outputs": [
        {
          "output_type": "stream",
          "text": [
            "Number of Sequences =  490695 \n",
            " ['hello... i heard about free code camp vi', 'lo... i heard about free code camp via l', '.. i heard about free code camp via life', 'i heard about free code camp via lifehac', 'eard about free code camp via lifehacker'] \n",
            "\n",
            "Char :  ['a', 'i', 'h', 'k', ' ']\n"
          ],
          "name": "stdout"
        }
      ]
    },
    {
      "cell_type": "code",
      "metadata": {
        "id": "qtREhbO1PxsP",
        "colab_type": "code",
        "colab": {}
      },
      "source": [
        "x = np.zeros((len(sentences),maxlen,len(chars)),dtype = np.bool)\n",
        "y = np.zeros((len(sentences),len(chars)),dtype = np.bool)\n",
        "\n",
        "for i, sentence in enumerate(sentences):\n",
        "  for t,char in enumerate(sentence):\n",
        "    x[i,t,char_indices[char]] = 1\n",
        "    \n",
        "  y[i,char_indices[next_chars[i]]] = 1"
      ],
      "execution_count": 0,
      "outputs": []
    },
    {
      "cell_type": "code",
      "metadata": {
        "id": "A5pom13FQfb9",
        "colab_type": "code",
        "outputId": "d38ca2f2-c8c2-47ce-8dab-7bc88bec8de4",
        "colab": {
          "base_uri": "https://localhost:8080/",
          "height": 88
        }
      },
      "source": [
        "from keras.layers import LSTM,CuDNNLSTM,Dense,Activation,Dropout\n",
        "from keras.models import Sequential\n",
        "\n",
        "model = Sequential()\n",
        "model.add(CuDNNLSTM(1024,input_shape = (maxlen,len(chars))))\n",
        "model.add(Dense(len(chars),activation = 'softmax'))\n"
      ],
      "execution_count": 0,
      "outputs": [
        {
          "output_type": "stream",
          "text": [
            "WARNING:tensorflow:From /usr/local/lib/python3.6/dist-packages/tensorflow/python/framework/op_def_library.py:263: colocate_with (from tensorflow.python.framework.ops) is deprecated and will be removed in a future version.\n",
            "Instructions for updating:\n",
            "Colocations handled automatically by placer.\n"
          ],
          "name": "stdout"
        }
      ]
    },
    {
      "cell_type": "code",
      "metadata": {
        "id": "2BZnYLHVRERR",
        "colab_type": "code",
        "colab": {}
      },
      "source": [
        "model.compile(optimizer = 'rmsprop',loss = 'categorical_crossentropy',metrics = ['acc'])"
      ],
      "execution_count": 0,
      "outputs": []
    },
    {
      "cell_type": "code",
      "metadata": {
        "id": "cXgmjJNoRPm3",
        "colab_type": "code",
        "colab": {}
      },
      "source": [
        "import random\n",
        "import sys\n",
        "from keras.callbacks import LambdaCallback,ModelCheckpoint\n",
        "def sample(preds,temperature = 1.0):\n",
        "  preds = np.asarray(preds).astype('float64')\n",
        "  \n",
        "  preds = np.log(preds) /temperature\n",
        "  exp_preds = np.exp(preds)\n",
        "  preds = exp_preds / np.sum(exp_preds)\n",
        "  probas = np.random.multinomial(1,preds,1)\n",
        "  \n",
        "  return np.argmax(probas)\n",
        "\n",
        "def on_epoch_end(epoch,logs):\n",
        "  if epoch+1 == 1 or epoch+1 ==15:\n",
        "    print()\n",
        "    print('----- Generating text after Epoch: %d' % epoch)\n",
        "    \n",
        "    start_index = random.randint(0,len(user) - maxlen -1)\n",
        "    \n",
        "    for diversity in [0.2,0.5,1.0,1.2]:\n",
        "      print('----- diversity:', diversity)\n",
        "      generated = ''\n",
        "      sentence = user[start_index : start_index + maxlen]\n",
        "      generated +=sentence\n",
        "      print('----- Generating with seed: \"' + sentence + '\"')\n",
        "      sys.stdout.write(generated)\n",
        "      \n",
        "      for i in range(400):\n",
        "        x_pred = np.zeros((1,maxlen,len(chars)))\n",
        "        \n",
        "        for t,char in enumerate(sentence):\n",
        "          x_pred[0,t,char_indices[char]] =1\n",
        "          \n",
        "        preds = model.predict(x_pred,verbose =0)[0]\n",
        "        next_index = sample(preds, diversity)\n",
        "        next_char = indices_char[next_index]\n",
        "\n",
        "        generated += next_char\n",
        "        sentence = sentence[1:] + next_char\n",
        "\n",
        "        sys.stdout.write(next_char)\n",
        "        sys.stdout.flush()\n",
        "      print()\n",
        "  else:\n",
        "    print()\n",
        "    print('----- Not generating text after Epoch: %d' % epoch)\n",
        "\n",
        "generate_text = LambdaCallback(on_epoch_end=on_epoch_end)"
      ],
      "execution_count": 0,
      "outputs": []
    },
    {
      "cell_type": "code",
      "metadata": {
        "id": "kVo5xfuxUlEQ",
        "colab_type": "code",
        "outputId": "7eeaa53b-c15f-4ce3-9f2d-5cf57b21f5dd",
        "colab": {
          "base_uri": "https://localhost:8080/",
          "height": 105
        }
      },
      "source": [
        "filepath = \"weights.hdf5\"\n",
        "checkpoint = ModelCheckpoint(filepath, \n",
        "                             monitor='loss', \n",
        "                             verbose=1, \n",
        "                             save_best_only=True, \n",
        "                             mode='min')\n",
        "\n",
        "# fit model using our gpu\n",
        "with tf.device('/gpu:0'):\n",
        "    model.fit(x, y,\n",
        "              batch_size=128,\n",
        "              epochs=15,\n",
        "              verbose=2,\n",
        "              callbacks=[generate_text, checkpoint])"
      ],
      "execution_count": 0,
      "outputs": [
        {
          "output_type": "stream",
          "text": [
            "WARNING:tensorflow:From /usr/local/lib/python3.6/dist-packages/tensorflow/python/ops/math_ops.py:3066: to_int32 (from tensorflow.python.ops.math_ops) is deprecated and will be removed in a future version.\n",
            "Instructions for updating:\n",
            "Use tf.cast instead.\n",
            "Epoch 1/15\n"
          ],
          "name": "stdout"
        }
      ]
    },
    {
      "cell_type": "code",
      "metadata": {
        "id": "Vj5dFEkzUrid",
        "colab_type": "code",
        "colab": {}
      },
      "source": [
        ""
      ],
      "execution_count": 0,
      "outputs": []
    }
  ]
}