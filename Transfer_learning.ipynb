{
  "nbformat": 4,
  "nbformat_minor": 0,
  "metadata": {
    "colab": {
      "name": "Transfer learning.ipynb",
      "version": "0.3.2",
      "provenance": [],
      "include_colab_link": true
    },
    "kernelspec": {
      "name": "python3",
      "display_name": "Python 3"
    },
    "accelerator": "GPU"
  },
  "cells": [
    {
      "cell_type": "markdown",
      "metadata": {
        "id": "view-in-github",
        "colab_type": "text"
      },
      "source": [
        "<a href=\"https://colab.research.google.com/github/offdocudev/Machine-Learning/blob/master/Transfer_learning.ipynb\" target=\"_parent\"><img src=\"https://colab.research.google.com/assets/colab-badge.svg\" alt=\"Open In Colab\"/></a>"
      ]
    },
    {
      "cell_type": "code",
      "metadata": {
        "id": "YYgmVL2CDvBK",
        "colab_type": "code",
        "outputId": "a4a818ba-5196-43b2-a1ac-9f02691f8356",
        "colab": {
          "base_uri": "https://localhost:8080/",
          "height": 238
        }
      },
      "source": [
        "import keras\n",
        "import tensorflow as tf\n",
        "import matplotlib.pyplot as plt\n",
        "import numpy as np \n",
        "import pandas as pd\n",
        "import math\n",
        "from IPython.display import clear_output\n",
        "\n",
        "# DATA - https://www.kaggle.com/c/digit-recognizer/data\n",
        "# Kaggle \n",
        "! pip install kaggle\n",
        "! mkdir ~/.kaggle\n",
        "#! cp kaggle.json ~/.kaggle/\n",
        "# Or manually copy credentials in kaggle.json file \n",
        "\n",
        "!  echo '{\"username\":\"offdocudev\",\"key\":\"a6893bc3aa38aec8a688959083e82644\"}' > /root/.kaggle/kaggle.json\n",
        "\n",
        "\n",
        "! cat /root/.kaggle/kaggle.json\n",
        "! chmod 600 /root/.kaggle/kaggle.json\n",
        "\n",
        "# Downlaod data"
      ],
      "execution_count": 0,
      "outputs": [
        {
          "output_type": "stream",
          "text": [
            "Requirement already satisfied: kaggle in /usr/local/lib/python3.6/dist-packages (1.5.3)\n",
            "Requirement already satisfied: urllib3<1.25,>=1.21.1 in /usr/local/lib/python3.6/dist-packages (from kaggle) (1.22)\n",
            "Requirement already satisfied: six>=1.10 in /usr/local/lib/python3.6/dist-packages (from kaggle) (1.11.0)\n",
            "Requirement already satisfied: certifi in /usr/local/lib/python3.6/dist-packages (from kaggle) (2019.3.9)\n",
            "Requirement already satisfied: python-dateutil in /usr/local/lib/python3.6/dist-packages (from kaggle) (2.5.3)\n",
            "Requirement already satisfied: requests in /usr/local/lib/python3.6/dist-packages (from kaggle) (2.18.4)\n",
            "Requirement already satisfied: tqdm in /usr/local/lib/python3.6/dist-packages (from kaggle) (4.28.1)\n",
            "Requirement already satisfied: python-slugify in /usr/local/lib/python3.6/dist-packages (from kaggle) (3.0.0)\n",
            "Requirement already satisfied: idna<2.7,>=2.5 in /usr/local/lib/python3.6/dist-packages (from requests->kaggle) (2.6)\n",
            "Requirement already satisfied: chardet<3.1.0,>=3.0.2 in /usr/local/lib/python3.6/dist-packages (from requests->kaggle) (3.0.4)\n",
            "Requirement already satisfied: text-unidecode==1.2 in /usr/local/lib/python3.6/dist-packages (from python-slugify->kaggle) (1.2)\n",
            "mkdir: cannot create directory ‘/root/.kaggle’: File exists\n",
            "{\"username\":\"offdocudev\",\"key\":\"a6893bc3aa38aec8a688959083e82644\"}\n"
          ],
          "name": "stdout"
        }
      ]
    },
    {
      "cell_type": "code",
      "metadata": {
        "id": "CBzuFVuJDwcG",
        "colab_type": "code",
        "colab": {}
      },
      "source": [
        "#################### DOWNLOAD AND UNZIP FILE SAVED IN DRIVE ####################\n",
        "\n",
        "!pip install -U -q PyDrive\n",
        "\n",
        "# HERE YOUR FILE ID ( GET IT WITH THE SHARING URL: https://drive.google.com/open?id=1Soh3zXLXt2lT7b_3FcWWyeOCC7SnOxK0 )\n",
        "zip_id = '1Soh3zXLXt2lT7b_3FcWWyeOCC7SnOxK0'\n",
        "\n",
        "from pydrive.auth import GoogleAuth\n",
        "from pydrive.drive import GoogleDrive\n",
        "from google.colab import auth\n",
        "from oauth2client.client import GoogleCredentials\n",
        "import zipfile, os\n",
        "\n",
        "# 1. Authenticate and create the PyDrive client.\n",
        "auth.authenticate_user()\n",
        "gauth = GoogleAuth()\n",
        "gauth.credentials = GoogleCredentials.get_application_default()\n",
        "drive = GoogleDrive(gauth)\n",
        "\n",
        "\n"
      ],
      "execution_count": 0,
      "outputs": []
    },
    {
      "cell_type": "code",
      "metadata": {
        "id": "pl7XG9rUDyzm",
        "colab_type": "code",
        "colab": {}
      },
      "source": [
        "import keras\n",
        "import tensorflow as tf\n",
        "from keras.layers import Dense,Flatten,Activation\n",
        "from keras.losses import categorical_crossentropy\n",
        "from keras.optimizers import adam,SGD\n"
      ],
      "execution_count": 0,
      "outputs": []
    },
    {
      "cell_type": "code",
      "metadata": {
        "id": "kH3jOwksD1mM",
        "colab_type": "code",
        "colab": {}
      },
      "source": [
        "from keras.models import Model, Input"
      ],
      "execution_count": 0,
      "outputs": []
    },
    {
      "cell_type": "code",
      "metadata": {
        "id": "8fubNShkEABZ",
        "colab_type": "code",
        "colab": {}
      },
      "source": [
        "from keras.applications.vgg19 import VGG19"
      ],
      "execution_count": 0,
      "outputs": []
    },
    {
      "cell_type": "code",
      "metadata": {
        "id": "TyKQr-TBEELT",
        "colab_type": "code",
        "colab": {}
      },
      "source": [
        "from keras.models import Model, Input\n",
        "from keras.applications.vgg16 import VGG16\n",
        "from keras.applications.resnet50 import ResNet50\n",
        "from keras.applications.vgg19 import VGG19"
      ],
      "execution_count": 0,
      "outputs": []
    },
    {
      "cell_type": "code",
      "metadata": {
        "id": "vRXkHgHnEHA2",
        "colab_type": "code",
        "outputId": "16aa6514-5f35-4780-f1c0-5ac32a3de079",
        "colab": {
          "base_uri": "https://localhost:8080/",
          "height": 190
        }
      },
      "source": [
        "modelz = VGG19()\n",
        "modelx = ResNet50()\n",
        "modely = VGG16()"
      ],
      "execution_count": 0,
      "outputs": [
        {
          "output_type": "stream",
          "text": [
            "WARNING:tensorflow:From /usr/local/lib/python3.6/dist-packages/tensorflow/python/framework/op_def_library.py:263: colocate_with (from tensorflow.python.framework.ops) is deprecated and will be removed in a future version.\n",
            "Instructions for updating:\n",
            "Colocations handled automatically by placer.\n",
            "Downloading data from https://github.com/fchollet/deep-learning-models/releases/download/v0.1/vgg19_weights_tf_dim_ordering_tf_kernels.h5\n",
            "574717952/574710816 [==============================] - 7s 0us/step\n",
            "Downloading data from https://github.com/fchollet/deep-learning-models/releases/download/v0.2/resnet50_weights_tf_dim_ordering_tf_kernels.h5\n",
            "102858752/102853048 [==============================] - 1s 0us/step\n",
            "Downloading data from https://github.com/fchollet/deep-learning-models/releases/download/v0.1/vgg16_weights_tf_dim_ordering_tf_kernels.h5\n",
            "553467904/553467096 [==============================] - 6s 0us/step\n"
          ],
          "name": "stdout"
        }
      ]
    },
    {
      "cell_type": "code",
      "metadata": {
        "id": "QD86UF8uEItM",
        "colab_type": "code",
        "outputId": "b630f47c-a9cf-43cc-bf0b-9b3ad7d77afe",
        "colab": {
          "base_uri": "https://localhost:8080/",
          "height": 3859
        }
      },
      "source": [
        "for layers in modelx.layers:\n",
        "  print(layers,layers.trainable)\n",
        "  \n",
        "for layers in modely.layers:\n",
        "  print(layers,layers.trainable)\n",
        "  \n",
        "for layers in modelz.layers:\n",
        "  print(layers,layers.trainable)\n",
        "  \n"
      ],
      "execution_count": 0,
      "outputs": [
        {
          "output_type": "stream",
          "text": [
            "<keras.engine.input_layer.InputLayer object at 0x7fc4364e2be0> False\n",
            "<keras.layers.convolutional.ZeroPadding2D object at 0x7fc3f1f75d30> True\n",
            "<keras.layers.convolutional.Conv2D object at 0x7fc3f1f757b8> True\n",
            "<keras.layers.normalization.BatchNormalization object at 0x7fc3ea669da0> True\n",
            "<keras.layers.core.Activation object at 0x7fc3ea669ef0> True\n",
            "<keras.layers.convolutional.ZeroPadding2D object at 0x7fc3e9e2a748> True\n",
            "<keras.layers.pooling.MaxPooling2D object at 0x7fc3e9e2a9e8> True\n",
            "<keras.layers.convolutional.Conv2D object at 0x7fc3e9dfa780> True\n",
            "<keras.layers.normalization.BatchNormalization object at 0x7fc3e9d030f0> True\n",
            "<keras.layers.core.Activation object at 0x7fc3e9d03ac8> True\n",
            "<keras.layers.convolutional.Conv2D object at 0x7fc3e9d1df60> True\n",
            "<keras.layers.normalization.BatchNormalization object at 0x7fc3e9c8c518> True\n",
            "<keras.layers.core.Activation object at 0x7fc3e9c494e0> True\n",
            "<keras.layers.convolutional.Conv2D object at 0x7fc3e9bc0c18> True\n",
            "<keras.layers.convolutional.Conv2D object at 0x7fc3e9b978d0> True\n",
            "<keras.layers.normalization.BatchNormalization object at 0x7fc3e9b7c9b0> True\n",
            "<keras.layers.normalization.BatchNormalization object at 0x7fc3e9aa8a20> True\n",
            "<keras.layers.merge.Add object at 0x7fc3e9a89fd0> True\n",
            "<keras.layers.core.Activation object at 0x7fc3e9995a90> True\n",
            "<keras.layers.convolutional.Conv2D object at 0x7fc3e99f5470> True\n",
            "<keras.layers.normalization.BatchNormalization object at 0x7fc3e99b5940> True\n",
            "<keras.layers.core.Activation object at 0x7fc3e9971978> True\n",
            "<keras.layers.convolutional.Conv2D object at 0x7fc3e98e8048> True\n",
            "<keras.layers.normalization.BatchNormalization object at 0x7fc3e9881b38> True\n",
            "<keras.layers.core.Activation object at 0x7fc3e9842c50> True\n",
            "<keras.layers.convolutional.Conv2D object at 0x7fc3e97adf28> True\n",
            "<keras.layers.normalization.BatchNormalization object at 0x7fc3e9790e10> True\n",
            "<keras.layers.merge.Add object at 0x7fc3e9751ef0> True\n",
            "<keras.layers.core.Activation object at 0x7fc3e96853c8> True\n",
            "<keras.layers.convolutional.Conv2D object at 0x7fc3e9659320> True\n",
            "<keras.layers.normalization.BatchNormalization object at 0x7fc3e95fd0b8> True\n",
            "<keras.layers.core.Activation object at 0x7fc3e95cb8d0> True\n",
            "<keras.layers.convolutional.Conv2D object at 0x7fc3e9597eb8> True\n",
            "<keras.layers.normalization.BatchNormalization object at 0x7fc3e95637b8> True\n",
            "<keras.layers.core.Activation object at 0x7fc3e95014e0> True\n",
            "<keras.layers.convolutional.Conv2D object at 0x7fc3e94b6c88> True\n",
            "<keras.layers.normalization.BatchNormalization object at 0x7fc3e944e828> True\n",
            "<keras.layers.merge.Add object at 0x7fc3e94119b0> True\n",
            "<keras.layers.core.Activation object at 0x7fc3e93a9cc0> True\n",
            "<keras.layers.convolutional.Conv2D object at 0x7fc3e9343390> True\n",
            "<keras.layers.normalization.BatchNormalization object at 0x7fc3e931ac18> True\n",
            "<keras.layers.core.Activation object at 0x7fc3e9292358> True\n",
            "<keras.layers.convolutional.Conv2D object at 0x7fc3e924e2e8> True\n",
            "<keras.layers.normalization.BatchNormalization object at 0x7fc3e92652b0> True\n",
            "<keras.layers.core.Activation object at 0x7fc3e917a6a0> True\n",
            "<keras.layers.convolutional.Conv2D object at 0x7fc3e915b780> True\n",
            "<keras.layers.convolutional.Conv2D object at 0x7fc3e90ce240> True\n",
            "<keras.layers.normalization.BatchNormalization object at 0x7fc3e912d518> True\n",
            "<keras.layers.normalization.BatchNormalization object at 0x7fc3e8ffe4e0> True\n",
            "<keras.layers.merge.Add object at 0x7fc3e9038c18> True\n",
            "<keras.layers.core.Activation object at 0x7fc3e8f72860> True\n",
            "<keras.layers.convolutional.Conv2D object at 0x7fc3e8ec8828> True\n",
            "<keras.layers.normalization.BatchNormalization object at 0x7fc3e8ee55c0> True\n",
            "<keras.layers.core.Activation object at 0x7fc3e8e39dd8> True\n",
            "<keras.layers.convolutional.Conv2D object at 0x7fc3e8dd2c18> True\n",
            "<keras.layers.normalization.BatchNormalization object at 0x7fc3e8e32b00> True\n",
            "<keras.layers.core.Activation object at 0x7fc3e8df2c18> True\n",
            "<keras.layers.convolutional.Conv2D object at 0x7fc3e8d24080> True\n",
            "<keras.layers.normalization.BatchNormalization object at 0x7fc3e8cbd048> True\n",
            "<keras.layers.merge.Add object at 0x7fc3e8c7fda0> True\n",
            "<keras.layers.core.Activation object at 0x7fc3e8c343c8> True\n",
            "<keras.layers.convolutional.Conv2D object at 0x7fc3e8c349e8> True\n",
            "<keras.layers.normalization.BatchNormalization object at 0x7fc3e8ba9160> True\n",
            "<keras.layers.core.Activation object at 0x7fc3e8afa898> True\n",
            "<keras.layers.convolutional.Conv2D object at 0x7fc3e8ac5e80> True\n",
            "<keras.layers.normalization.BatchNormalization object at 0x7fc3e8a90780> True\n",
            "<keras.layers.core.Activation object at 0x7fc3e8ab04a8> True\n",
            "<keras.layers.convolutional.Conv2D object at 0x7fc3e899ea58> True\n",
            "<keras.layers.normalization.BatchNormalization object at 0x7fc3e897d7f0> True\n",
            "<keras.layers.merge.Add object at 0x7fc3e893e978> True\n",
            "<keras.layers.core.Activation object at 0x7fc3e88d47f0> True\n",
            "<keras.layers.convolutional.Conv2D object at 0x7fc3e88d4fd0> True\n",
            "<keras.layers.normalization.BatchNormalization object at 0x7fc3e8846ba8> True\n",
            "<keras.layers.core.Activation object at 0x7fc3e87bf2e8> True\n",
            "<keras.layers.convolutional.Conv2D object at 0x7fc3e877e278> True\n",
            "<keras.layers.normalization.BatchNormalization object at 0x7fc3e8795278> True\n",
            "<keras.layers.core.Activation object at 0x7fc3e87545f8> True\n",
            "<keras.layers.convolutional.Conv2D object at 0x7fc3e868b588> True\n",
            "<keras.layers.normalization.BatchNormalization object at 0x7fc3e865b4e0> True\n",
            "<keras.layers.merge.Add object at 0x7fc3e85fe208> True\n",
            "<keras.layers.core.Activation object at 0x7fc3e85972e8> True\n",
            "<keras.layers.convolutional.Conv2D object at 0x7fc3e85637b8> True\n",
            "<keras.layers.normalization.BatchNormalization object at 0x7fc3e8504550> True\n",
            "<keras.layers.core.Activation object at 0x7fc3e84d5d68> True\n",
            "<keras.layers.convolutional.Conv2D object at 0x7fc3e8470f60> True\n",
            "<keras.layers.normalization.BatchNormalization object at 0x7fc3e844e9e8> True\n",
            "<keras.layers.core.Activation object at 0x7fc3e8409128> True\n",
            "<keras.layers.convolutional.Conv2D object at 0x7fc3e8378f28> True\n",
            "<keras.layers.convolutional.Conv2D object at 0x7fc3e831dd68> True\n",
            "<keras.layers.normalization.BatchNormalization object at 0x7fc3e835ed30> True\n",
            "<keras.layers.normalization.BatchNormalization object at 0x7fc3e8260b00> True\n",
            "<keras.layers.merge.Add object at 0x7fc3e82205c0> True\n",
            "<keras.layers.core.Activation object at 0x7fc3e814f710> True\n",
            "<keras.layers.convolutional.Conv2D object at 0x7fc3e8122710> True\n",
            "<keras.layers.normalization.BatchNormalization object at 0x7fc3e80c24a8> True\n",
            "<keras.layers.core.Activation object at 0x7fc3e803a240> True\n",
            "<keras.layers.convolutional.Conv2D object at 0x7fc3e8078208> True\n",
            "<keras.layers.normalization.BatchNormalization object at 0x7fc3e80101d0> True\n",
            "<keras.layers.core.Activation object at 0x7fc3e7fcefd0> True\n",
            "<keras.layers.convolutional.Conv2D object at 0x7fc3e7f764e0> True\n",
            "<keras.layers.normalization.BatchNormalization object at 0x7fc3e7ec5438> True\n",
            "<keras.layers.merge.Add object at 0x7fc3e7ee7208> True\n",
            "<keras.layers.core.Activation object at 0x7fc3e7e047f0> True\n",
            "<keras.layers.convolutional.Conv2D object at 0x7fc3e7dd0710> True\n",
            "<keras.layers.normalization.BatchNormalization object at 0x7fc3e7dee4a8> True\n",
            "<keras.layers.core.Activation object at 0x7fc3e7d68240> True\n",
            "<keras.layers.convolutional.Conv2D object at 0x7fc3e7d241d0> True\n",
            "<keras.layers.normalization.BatchNormalization object at 0x7fc3e7cbe0b8> True\n",
            "<keras.layers.core.Activation object at 0x7fc3e7c7aeb8> True\n",
            "<keras.layers.convolutional.Conv2D object at 0x7fc3e7c324a8> True\n",
            "<keras.layers.normalization.BatchNormalization object at 0x7fc3e7b83400> True\n",
            "<keras.layers.merge.Add object at 0x7fc3e7ba41d0> True\n",
            "<keras.layers.core.Activation object at 0x7fc3e7ac0780> True\n",
            "<keras.layers.convolutional.Conv2D object at 0x7fc3e7ac0d68> True\n",
            "<keras.layers.normalization.BatchNormalization object at 0x7fc3e7aad550> True\n",
            "<keras.layers.core.Activation object at 0x7fc3e7a27208> True\n",
            "<keras.layers.convolutional.Conv2D object at 0x7fc3e79e2198> True\n",
            "<keras.layers.normalization.BatchNormalization object at 0x7fc3e7979080> True\n",
            "<keras.layers.core.Activation object at 0x7fc3e79a6eb8> True\n",
            "<keras.layers.convolutional.Conv2D object at 0x7fc3e78f0438> True\n",
            "<keras.layers.normalization.BatchNormalization object at 0x7fc3e78423c8> True\n",
            "<keras.layers.merge.Add object at 0x7fc3e7866198> True\n",
            "<keras.layers.core.Activation object at 0x7fc3e7780780> True\n",
            "<keras.layers.convolutional.Conv2D object at 0x7fc3e774c6a0> True\n",
            "<keras.layers.normalization.BatchNormalization object at 0x7fc3e776c438> True\n",
            "<keras.layers.core.Activation object at 0x7fc3e76e51d0> True\n",
            "<keras.layers.convolutional.Conv2D object at 0x7fc3e76539b0> True\n",
            "<keras.layers.normalization.BatchNormalization object at 0x7fc3e7639e80> True\n",
            "<keras.layers.core.Activation object at 0x7fc3e7678f60> True\n",
            "<keras.layers.convolutional.Conv2D object at 0x7fc3e75b1400> True\n",
            "<keras.layers.normalization.BatchNormalization object at 0x7fc3e7502358> True\n",
            "<keras.layers.merge.Add object at 0x7fc3e7528048> True\n",
            "<keras.layers.core.Activation object at 0x7fc3e743e710> True\n",
            "<keras.layers.convolutional.Conv2D object at 0x7fc3e740e668> True\n",
            "<keras.layers.normalization.BatchNormalization object at 0x7fc3e742b400> True\n",
            "<keras.layers.core.Activation object at 0x7fc3e73a2198> True\n",
            "<keras.layers.convolutional.Conv2D object at 0x7fc3e730ff28> True\n",
            "<keras.layers.normalization.BatchNormalization object at 0x7fc3e7375e48> True\n",
            "<keras.layers.core.Activation object at 0x7fc3e7334ef0> True\n",
            "<keras.layers.convolutional.Conv2D object at 0x7fc3e726d400> True\n",
            "<keras.layers.normalization.BatchNormalization object at 0x7fc3e71bf358> True\n",
            "<keras.layers.merge.Add object at 0x7fc3e71e2198> True\n",
            "<keras.layers.core.Activation object at 0x7fc3e70fc470> True\n",
            "<keras.layers.convolutional.Conv2D object at 0x7fc3e70cd630> True\n",
            "<keras.layers.normalization.BatchNormalization object at 0x7fc3e70ee3c8> True\n",
            "<keras.layers.core.Activation object at 0x7fc3e7060160> True\n",
            "<keras.layers.convolutional.Conv2D object at 0x7fc3e6fd4f28> True\n",
            "<keras.layers.normalization.BatchNormalization object at 0x7fc3e7036e10> True\n",
            "<keras.layers.core.Activation object at 0x7fc3e6ff7ef0> True\n",
            "<keras.layers.convolutional.Conv2D object at 0x7fc3e6f2b3c8> True\n",
            "<keras.layers.convolutional.Conv2D object at 0x7fc3e6ea00b8> True\n",
            "<keras.layers.normalization.BatchNormalization object at 0x7fc3e6e7d320> True\n",
            "<keras.layers.normalization.BatchNormalization object at 0x7fc3e6dad320> True\n",
            "<keras.layers.merge.Add object at 0x7fc3e6d8e748> True\n",
            "<keras.layers.core.Activation object at 0x7fc3e6cc0be0> True\n",
            "<keras.layers.convolutional.Conv2D object at 0x7fc3e6cc0cf8> True\n",
            "<keras.layers.normalization.BatchNormalization object at 0x7fc3e6cb8a20> True\n",
            "<keras.layers.core.Activation object at 0x7fc3e6c266a0> True\n",
            "<keras.layers.convolutional.Conv2D object at 0x7fc3e6bec780> True\n",
            "<keras.layers.normalization.BatchNormalization object at 0x7fc3e6b3f588> True\n",
            "<keras.layers.core.Activation object at 0x7fc3e6b622b0> True\n",
            "<keras.layers.convolutional.Conv2D object at 0x7fc3e6a7ef98> True\n",
            "<keras.layers.normalization.BatchNormalization object at 0x7fc3e6a4a898> True\n",
            "<keras.layers.merge.Add object at 0x7fc3e6a675c0> True\n",
            "<keras.layers.core.Activation object at 0x7fc3e6980630> True\n",
            "<keras.layers.convolutional.Conv2D object at 0x7fc3e6980d30> True\n",
            "<keras.layers.normalization.BatchNormalization object at 0x7fc3e6976a20> True\n",
            "<keras.layers.core.Activation object at 0x7fc3e68e36a0> True\n",
            "<keras.layers.convolutional.Conv2D object at 0x7fc3e68a8630> True\n",
            "<keras.layers.normalization.BatchNormalization object at 0x7fc3e67fe588> True\n",
            "<keras.layers.core.Activation object at 0x7fc3e681d2b0> True\n",
            "<keras.layers.convolutional.Conv2D object at 0x7fc3e6769f98> True\n",
            "<keras.layers.normalization.BatchNormalization object at 0x7fc3e6751710> True\n",
            "<keras.layers.merge.Add object at 0x7fc3e6726780> True\n",
            "<keras.layers.core.Activation object at 0x7fc3e66405c0> True\n",
            "<keras.layers.pooling.GlobalAveragePooling2D object at 0x7fc3e6640c88> True\n",
            "<keras.layers.core.Dense object at 0x7fc3e660ee80> True\n",
            "<keras.engine.input_layer.InputLayer object at 0x7fc3f1f90d30> False\n",
            "<keras.layers.convolutional.Conv2D object at 0x7fc3e5bbf2b0> True\n",
            "<keras.layers.convolutional.Conv2D object at 0x7fc3e5bbf160> True\n",
            "<keras.layers.pooling.MaxPooling2D object at 0x7fc3e5ee8198> True\n",
            "<keras.layers.convolutional.Conv2D object at 0x7fc3e5e7a208> True\n",
            "<keras.layers.convolutional.Conv2D object at 0x7fc3e5c26978> True\n",
            "<keras.layers.pooling.MaxPooling2D object at 0x7fc3e5defbe0> True\n",
            "<keras.layers.convolutional.Conv2D object at 0x7fc3e5d82cc0> True\n",
            "<keras.layers.convolutional.Conv2D object at 0x7fc3e5d320f0> True\n",
            "<keras.layers.convolutional.Conv2D object at 0x7fc3e5caef98> True\n",
            "<keras.layers.pooling.MaxPooling2D object at 0x7fc3e5be8940> True\n",
            "<keras.layers.convolutional.Conv2D object at 0x7fc3e5be8470> True\n",
            "<keras.layers.convolutional.Conv2D object at 0x7fc3e5af9198> True\n",
            "<keras.layers.convolutional.Conv2D object at 0x7fc3e5b0fc88> True\n",
            "<keras.layers.pooling.MaxPooling2D object at 0x7fc3e5b26cc0> True\n",
            "<keras.layers.convolutional.Conv2D object at 0x7fc3e5ab9780> True\n",
            "<keras.layers.convolutional.Conv2D object at 0x7fc3e5aeb1d0> True\n",
            "<keras.layers.convolutional.Conv2D object at 0x7fc3e5a7c828> True\n",
            "<keras.layers.pooling.MaxPooling2D object at 0x7fc3e5a98c50> True\n",
            "<keras.layers.core.Flatten object at 0x7fc3e5a989b0> True\n",
            "<keras.layers.core.Dense object at 0x7fc3e5a44898> True\n",
            "<keras.layers.core.Dense object at 0x7fc3e5a5b898> True\n",
            "<keras.layers.core.Dense object at 0x7fc3e5a74630> True\n",
            "<keras.engine.input_layer.InputLayer object at 0x7fc4364e2cc0> False\n",
            "<keras.layers.convolutional.Conv2D object at 0x7fc4364ffa20> True\n",
            "<keras.layers.convolutional.Conv2D object at 0x7fc3f26899b0> True\n",
            "<keras.layers.pooling.MaxPooling2D object at 0x7fc3f22448d0> True\n",
            "<keras.layers.convolutional.Conv2D object at 0x7fc3f2244630> True\n",
            "<keras.layers.convolutional.Conv2D object at 0x7fc3f21f7400> True\n",
            "<keras.layers.pooling.MaxPooling2D object at 0x7fc3f218eac8> True\n",
            "<keras.layers.convolutional.Conv2D object at 0x7fc3f218e630> True\n",
            "<keras.layers.convolutional.Conv2D object at 0x7fc3f21b82e8> True\n",
            "<keras.layers.convolutional.Conv2D object at 0x7fc3f2151d30> True\n",
            "<keras.layers.convolutional.Conv2D object at 0x7fc3f217f630> True\n",
            "<keras.layers.pooling.MaxPooling2D object at 0x7fc3f2118da0> True\n",
            "<keras.layers.convolutional.Conv2D object at 0x7fc3f2118a58> True\n",
            "<keras.layers.convolutional.Conv2D object at 0x7fc3f2146940> True\n",
            "<keras.layers.convolutional.Conv2D object at 0x7fc3f20df470> True\n",
            "<keras.layers.convolutional.Conv2D object at 0x7fc3f21079e8> True\n",
            "<keras.layers.pooling.MaxPooling2D object at 0x7fc3f20bb160> True\n",
            "<keras.layers.convolutional.Conv2D object at 0x7fc3f20a6d68> True\n",
            "<keras.layers.convolutional.Conv2D object at 0x7fc3f2054d30> True\n",
            "<keras.layers.convolutional.Conv2D object at 0x7fc3f207f588> True\n",
            "<keras.layers.convolutional.Conv2D object at 0x7fc3f2018cf8> True\n",
            "<keras.layers.pooling.MaxPooling2D object at 0x7fc3f20435f8> True\n",
            "<keras.layers.core.Flatten object at 0x7fc3f2043160> True\n",
            "<keras.layers.core.Dense object at 0x7fc3f1fddd68> True\n",
            "<keras.layers.core.Dense object at 0x7fc3f1ff6ef0> True\n",
            "<keras.layers.core.Dense object at 0x7fc3f1f90630> True\n"
          ],
          "name": "stdout"
        }
      ]
    },
    {
      "cell_type": "code",
      "metadata": {
        "id": "gw34RYo0EO8o",
        "colab_type": "code",
        "colab": {}
      },
      "source": [
        "for layer in modelx.layers[:22]:\n",
        "  layer.trainable = False\n",
        "  \n",
        "for layer in modely.layers[:22]:\n",
        "  layer.trainable = False\n",
        "\n",
        "for layer in modelz.layers[:22]:\n",
        "  layer.trainable = False\n",
        "  "
      ],
      "execution_count": 0,
      "outputs": []
    },
    {
      "cell_type": "code",
      "metadata": {
        "id": "80fJRSvgEs4_",
        "colab_type": "code",
        "outputId": "1c2e3220-6cc1-4502-c31b-4858600a45af",
        "colab": {
          "base_uri": "https://localhost:8080/",
          "height": 3859
        }
      },
      "source": [
        "for layers in modelx.layers:\n",
        "  print(layers,layers.trainable)\n",
        "  \n",
        "for layers in modely.layers:\n",
        "  print(layers,layers.trainable)\n",
        "  \n",
        "for layers in modelz.layers:\n",
        "  print(layers,layers.trainable)\n",
        "  \n"
      ],
      "execution_count": 0,
      "outputs": [
        {
          "output_type": "stream",
          "text": [
            "<keras.engine.input_layer.InputLayer object at 0x7fc4364e2be0> False\n",
            "<keras.layers.convolutional.ZeroPadding2D object at 0x7fc3f1f75d30> False\n",
            "<keras.layers.convolutional.Conv2D object at 0x7fc3f1f757b8> False\n",
            "<keras.layers.normalization.BatchNormalization object at 0x7fc3ea669da0> False\n",
            "<keras.layers.core.Activation object at 0x7fc3ea669ef0> False\n",
            "<keras.layers.convolutional.ZeroPadding2D object at 0x7fc3e9e2a748> False\n",
            "<keras.layers.pooling.MaxPooling2D object at 0x7fc3e9e2a9e8> False\n",
            "<keras.layers.convolutional.Conv2D object at 0x7fc3e9dfa780> False\n",
            "<keras.layers.normalization.BatchNormalization object at 0x7fc3e9d030f0> False\n",
            "<keras.layers.core.Activation object at 0x7fc3e9d03ac8> False\n",
            "<keras.layers.convolutional.Conv2D object at 0x7fc3e9d1df60> False\n",
            "<keras.layers.normalization.BatchNormalization object at 0x7fc3e9c8c518> False\n",
            "<keras.layers.core.Activation object at 0x7fc3e9c494e0> False\n",
            "<keras.layers.convolutional.Conv2D object at 0x7fc3e9bc0c18> False\n",
            "<keras.layers.convolutional.Conv2D object at 0x7fc3e9b978d0> False\n",
            "<keras.layers.normalization.BatchNormalization object at 0x7fc3e9b7c9b0> False\n",
            "<keras.layers.normalization.BatchNormalization object at 0x7fc3e9aa8a20> False\n",
            "<keras.layers.merge.Add object at 0x7fc3e9a89fd0> False\n",
            "<keras.layers.core.Activation object at 0x7fc3e9995a90> False\n",
            "<keras.layers.convolutional.Conv2D object at 0x7fc3e99f5470> False\n",
            "<keras.layers.normalization.BatchNormalization object at 0x7fc3e99b5940> False\n",
            "<keras.layers.core.Activation object at 0x7fc3e9971978> False\n",
            "<keras.layers.convolutional.Conv2D object at 0x7fc3e98e8048> True\n",
            "<keras.layers.normalization.BatchNormalization object at 0x7fc3e9881b38> True\n",
            "<keras.layers.core.Activation object at 0x7fc3e9842c50> True\n",
            "<keras.layers.convolutional.Conv2D object at 0x7fc3e97adf28> True\n",
            "<keras.layers.normalization.BatchNormalization object at 0x7fc3e9790e10> True\n",
            "<keras.layers.merge.Add object at 0x7fc3e9751ef0> True\n",
            "<keras.layers.core.Activation object at 0x7fc3e96853c8> True\n",
            "<keras.layers.convolutional.Conv2D object at 0x7fc3e9659320> True\n",
            "<keras.layers.normalization.BatchNormalization object at 0x7fc3e95fd0b8> True\n",
            "<keras.layers.core.Activation object at 0x7fc3e95cb8d0> True\n",
            "<keras.layers.convolutional.Conv2D object at 0x7fc3e9597eb8> True\n",
            "<keras.layers.normalization.BatchNormalization object at 0x7fc3e95637b8> True\n",
            "<keras.layers.core.Activation object at 0x7fc3e95014e0> True\n",
            "<keras.layers.convolutional.Conv2D object at 0x7fc3e94b6c88> True\n",
            "<keras.layers.normalization.BatchNormalization object at 0x7fc3e944e828> True\n",
            "<keras.layers.merge.Add object at 0x7fc3e94119b0> True\n",
            "<keras.layers.core.Activation object at 0x7fc3e93a9cc0> True\n",
            "<keras.layers.convolutional.Conv2D object at 0x7fc3e9343390> True\n",
            "<keras.layers.normalization.BatchNormalization object at 0x7fc3e931ac18> True\n",
            "<keras.layers.core.Activation object at 0x7fc3e9292358> True\n",
            "<keras.layers.convolutional.Conv2D object at 0x7fc3e924e2e8> True\n",
            "<keras.layers.normalization.BatchNormalization object at 0x7fc3e92652b0> True\n",
            "<keras.layers.core.Activation object at 0x7fc3e917a6a0> True\n",
            "<keras.layers.convolutional.Conv2D object at 0x7fc3e915b780> True\n",
            "<keras.layers.convolutional.Conv2D object at 0x7fc3e90ce240> True\n",
            "<keras.layers.normalization.BatchNormalization object at 0x7fc3e912d518> True\n",
            "<keras.layers.normalization.BatchNormalization object at 0x7fc3e8ffe4e0> True\n",
            "<keras.layers.merge.Add object at 0x7fc3e9038c18> True\n",
            "<keras.layers.core.Activation object at 0x7fc3e8f72860> True\n",
            "<keras.layers.convolutional.Conv2D object at 0x7fc3e8ec8828> True\n",
            "<keras.layers.normalization.BatchNormalization object at 0x7fc3e8ee55c0> True\n",
            "<keras.layers.core.Activation object at 0x7fc3e8e39dd8> True\n",
            "<keras.layers.convolutional.Conv2D object at 0x7fc3e8dd2c18> True\n",
            "<keras.layers.normalization.BatchNormalization object at 0x7fc3e8e32b00> True\n",
            "<keras.layers.core.Activation object at 0x7fc3e8df2c18> True\n",
            "<keras.layers.convolutional.Conv2D object at 0x7fc3e8d24080> True\n",
            "<keras.layers.normalization.BatchNormalization object at 0x7fc3e8cbd048> True\n",
            "<keras.layers.merge.Add object at 0x7fc3e8c7fda0> True\n",
            "<keras.layers.core.Activation object at 0x7fc3e8c343c8> True\n",
            "<keras.layers.convolutional.Conv2D object at 0x7fc3e8c349e8> True\n",
            "<keras.layers.normalization.BatchNormalization object at 0x7fc3e8ba9160> True\n",
            "<keras.layers.core.Activation object at 0x7fc3e8afa898> True\n",
            "<keras.layers.convolutional.Conv2D object at 0x7fc3e8ac5e80> True\n",
            "<keras.layers.normalization.BatchNormalization object at 0x7fc3e8a90780> True\n",
            "<keras.layers.core.Activation object at 0x7fc3e8ab04a8> True\n",
            "<keras.layers.convolutional.Conv2D object at 0x7fc3e899ea58> True\n",
            "<keras.layers.normalization.BatchNormalization object at 0x7fc3e897d7f0> True\n",
            "<keras.layers.merge.Add object at 0x7fc3e893e978> True\n",
            "<keras.layers.core.Activation object at 0x7fc3e88d47f0> True\n",
            "<keras.layers.convolutional.Conv2D object at 0x7fc3e88d4fd0> True\n",
            "<keras.layers.normalization.BatchNormalization object at 0x7fc3e8846ba8> True\n",
            "<keras.layers.core.Activation object at 0x7fc3e87bf2e8> True\n",
            "<keras.layers.convolutional.Conv2D object at 0x7fc3e877e278> True\n",
            "<keras.layers.normalization.BatchNormalization object at 0x7fc3e8795278> True\n",
            "<keras.layers.core.Activation object at 0x7fc3e87545f8> True\n",
            "<keras.layers.convolutional.Conv2D object at 0x7fc3e868b588> True\n",
            "<keras.layers.normalization.BatchNormalization object at 0x7fc3e865b4e0> True\n",
            "<keras.layers.merge.Add object at 0x7fc3e85fe208> True\n",
            "<keras.layers.core.Activation object at 0x7fc3e85972e8> True\n",
            "<keras.layers.convolutional.Conv2D object at 0x7fc3e85637b8> True\n",
            "<keras.layers.normalization.BatchNormalization object at 0x7fc3e8504550> True\n",
            "<keras.layers.core.Activation object at 0x7fc3e84d5d68> True\n",
            "<keras.layers.convolutional.Conv2D object at 0x7fc3e8470f60> True\n",
            "<keras.layers.normalization.BatchNormalization object at 0x7fc3e844e9e8> True\n",
            "<keras.layers.core.Activation object at 0x7fc3e8409128> True\n",
            "<keras.layers.convolutional.Conv2D object at 0x7fc3e8378f28> True\n",
            "<keras.layers.convolutional.Conv2D object at 0x7fc3e831dd68> True\n",
            "<keras.layers.normalization.BatchNormalization object at 0x7fc3e835ed30> True\n",
            "<keras.layers.normalization.BatchNormalization object at 0x7fc3e8260b00> True\n",
            "<keras.layers.merge.Add object at 0x7fc3e82205c0> True\n",
            "<keras.layers.core.Activation object at 0x7fc3e814f710> True\n",
            "<keras.layers.convolutional.Conv2D object at 0x7fc3e8122710> True\n",
            "<keras.layers.normalization.BatchNormalization object at 0x7fc3e80c24a8> True\n",
            "<keras.layers.core.Activation object at 0x7fc3e803a240> True\n",
            "<keras.layers.convolutional.Conv2D object at 0x7fc3e8078208> True\n",
            "<keras.layers.normalization.BatchNormalization object at 0x7fc3e80101d0> True\n",
            "<keras.layers.core.Activation object at 0x7fc3e7fcefd0> True\n",
            "<keras.layers.convolutional.Conv2D object at 0x7fc3e7f764e0> True\n",
            "<keras.layers.normalization.BatchNormalization object at 0x7fc3e7ec5438> True\n",
            "<keras.layers.merge.Add object at 0x7fc3e7ee7208> True\n",
            "<keras.layers.core.Activation object at 0x7fc3e7e047f0> True\n",
            "<keras.layers.convolutional.Conv2D object at 0x7fc3e7dd0710> True\n",
            "<keras.layers.normalization.BatchNormalization object at 0x7fc3e7dee4a8> True\n",
            "<keras.layers.core.Activation object at 0x7fc3e7d68240> True\n",
            "<keras.layers.convolutional.Conv2D object at 0x7fc3e7d241d0> True\n",
            "<keras.layers.normalization.BatchNormalization object at 0x7fc3e7cbe0b8> True\n",
            "<keras.layers.core.Activation object at 0x7fc3e7c7aeb8> True\n",
            "<keras.layers.convolutional.Conv2D object at 0x7fc3e7c324a8> True\n",
            "<keras.layers.normalization.BatchNormalization object at 0x7fc3e7b83400> True\n",
            "<keras.layers.merge.Add object at 0x7fc3e7ba41d0> True\n",
            "<keras.layers.core.Activation object at 0x7fc3e7ac0780> True\n",
            "<keras.layers.convolutional.Conv2D object at 0x7fc3e7ac0d68> True\n",
            "<keras.layers.normalization.BatchNormalization object at 0x7fc3e7aad550> True\n",
            "<keras.layers.core.Activation object at 0x7fc3e7a27208> True\n",
            "<keras.layers.convolutional.Conv2D object at 0x7fc3e79e2198> True\n",
            "<keras.layers.normalization.BatchNormalization object at 0x7fc3e7979080> True\n",
            "<keras.layers.core.Activation object at 0x7fc3e79a6eb8> True\n",
            "<keras.layers.convolutional.Conv2D object at 0x7fc3e78f0438> True\n",
            "<keras.layers.normalization.BatchNormalization object at 0x7fc3e78423c8> True\n",
            "<keras.layers.merge.Add object at 0x7fc3e7866198> True\n",
            "<keras.layers.core.Activation object at 0x7fc3e7780780> True\n",
            "<keras.layers.convolutional.Conv2D object at 0x7fc3e774c6a0> True\n",
            "<keras.layers.normalization.BatchNormalization object at 0x7fc3e776c438> True\n",
            "<keras.layers.core.Activation object at 0x7fc3e76e51d0> True\n",
            "<keras.layers.convolutional.Conv2D object at 0x7fc3e76539b0> True\n",
            "<keras.layers.normalization.BatchNormalization object at 0x7fc3e7639e80> True\n",
            "<keras.layers.core.Activation object at 0x7fc3e7678f60> True\n",
            "<keras.layers.convolutional.Conv2D object at 0x7fc3e75b1400> True\n",
            "<keras.layers.normalization.BatchNormalization object at 0x7fc3e7502358> True\n",
            "<keras.layers.merge.Add object at 0x7fc3e7528048> True\n",
            "<keras.layers.core.Activation object at 0x7fc3e743e710> True\n",
            "<keras.layers.convolutional.Conv2D object at 0x7fc3e740e668> True\n",
            "<keras.layers.normalization.BatchNormalization object at 0x7fc3e742b400> True\n",
            "<keras.layers.core.Activation object at 0x7fc3e73a2198> True\n",
            "<keras.layers.convolutional.Conv2D object at 0x7fc3e730ff28> True\n",
            "<keras.layers.normalization.BatchNormalization object at 0x7fc3e7375e48> True\n",
            "<keras.layers.core.Activation object at 0x7fc3e7334ef0> True\n",
            "<keras.layers.convolutional.Conv2D object at 0x7fc3e726d400> True\n",
            "<keras.layers.normalization.BatchNormalization object at 0x7fc3e71bf358> True\n",
            "<keras.layers.merge.Add object at 0x7fc3e71e2198> True\n",
            "<keras.layers.core.Activation object at 0x7fc3e70fc470> True\n",
            "<keras.layers.convolutional.Conv2D object at 0x7fc3e70cd630> True\n",
            "<keras.layers.normalization.BatchNormalization object at 0x7fc3e70ee3c8> True\n",
            "<keras.layers.core.Activation object at 0x7fc3e7060160> True\n",
            "<keras.layers.convolutional.Conv2D object at 0x7fc3e6fd4f28> True\n",
            "<keras.layers.normalization.BatchNormalization object at 0x7fc3e7036e10> True\n",
            "<keras.layers.core.Activation object at 0x7fc3e6ff7ef0> True\n",
            "<keras.layers.convolutional.Conv2D object at 0x7fc3e6f2b3c8> True\n",
            "<keras.layers.convolutional.Conv2D object at 0x7fc3e6ea00b8> True\n",
            "<keras.layers.normalization.BatchNormalization object at 0x7fc3e6e7d320> True\n",
            "<keras.layers.normalization.BatchNormalization object at 0x7fc3e6dad320> True\n",
            "<keras.layers.merge.Add object at 0x7fc3e6d8e748> True\n",
            "<keras.layers.core.Activation object at 0x7fc3e6cc0be0> True\n",
            "<keras.layers.convolutional.Conv2D object at 0x7fc3e6cc0cf8> True\n",
            "<keras.layers.normalization.BatchNormalization object at 0x7fc3e6cb8a20> True\n",
            "<keras.layers.core.Activation object at 0x7fc3e6c266a0> True\n",
            "<keras.layers.convolutional.Conv2D object at 0x7fc3e6bec780> True\n",
            "<keras.layers.normalization.BatchNormalization object at 0x7fc3e6b3f588> True\n",
            "<keras.layers.core.Activation object at 0x7fc3e6b622b0> True\n",
            "<keras.layers.convolutional.Conv2D object at 0x7fc3e6a7ef98> True\n",
            "<keras.layers.normalization.BatchNormalization object at 0x7fc3e6a4a898> True\n",
            "<keras.layers.merge.Add object at 0x7fc3e6a675c0> True\n",
            "<keras.layers.core.Activation object at 0x7fc3e6980630> True\n",
            "<keras.layers.convolutional.Conv2D object at 0x7fc3e6980d30> True\n",
            "<keras.layers.normalization.BatchNormalization object at 0x7fc3e6976a20> True\n",
            "<keras.layers.core.Activation object at 0x7fc3e68e36a0> True\n",
            "<keras.layers.convolutional.Conv2D object at 0x7fc3e68a8630> True\n",
            "<keras.layers.normalization.BatchNormalization object at 0x7fc3e67fe588> True\n",
            "<keras.layers.core.Activation object at 0x7fc3e681d2b0> True\n",
            "<keras.layers.convolutional.Conv2D object at 0x7fc3e6769f98> True\n",
            "<keras.layers.normalization.BatchNormalization object at 0x7fc3e6751710> True\n",
            "<keras.layers.merge.Add object at 0x7fc3e6726780> True\n",
            "<keras.layers.core.Activation object at 0x7fc3e66405c0> True\n",
            "<keras.layers.pooling.GlobalAveragePooling2D object at 0x7fc3e6640c88> True\n",
            "<keras.layers.core.Dense object at 0x7fc3e660ee80> True\n",
            "<keras.engine.input_layer.InputLayer object at 0x7fc3f1f90d30> False\n",
            "<keras.layers.convolutional.Conv2D object at 0x7fc3e5bbf2b0> False\n",
            "<keras.layers.convolutional.Conv2D object at 0x7fc3e5bbf160> False\n",
            "<keras.layers.pooling.MaxPooling2D object at 0x7fc3e5ee8198> False\n",
            "<keras.layers.convolutional.Conv2D object at 0x7fc3e5e7a208> False\n",
            "<keras.layers.convolutional.Conv2D object at 0x7fc3e5c26978> False\n",
            "<keras.layers.pooling.MaxPooling2D object at 0x7fc3e5defbe0> False\n",
            "<keras.layers.convolutional.Conv2D object at 0x7fc3e5d82cc0> False\n",
            "<keras.layers.convolutional.Conv2D object at 0x7fc3e5d320f0> False\n",
            "<keras.layers.convolutional.Conv2D object at 0x7fc3e5caef98> False\n",
            "<keras.layers.pooling.MaxPooling2D object at 0x7fc3e5be8940> False\n",
            "<keras.layers.convolutional.Conv2D object at 0x7fc3e5be8470> False\n",
            "<keras.layers.convolutional.Conv2D object at 0x7fc3e5af9198> False\n",
            "<keras.layers.convolutional.Conv2D object at 0x7fc3e5b0fc88> False\n",
            "<keras.layers.pooling.MaxPooling2D object at 0x7fc3e5b26cc0> False\n",
            "<keras.layers.convolutional.Conv2D object at 0x7fc3e5ab9780> False\n",
            "<keras.layers.convolutional.Conv2D object at 0x7fc3e5aeb1d0> False\n",
            "<keras.layers.convolutional.Conv2D object at 0x7fc3e5a7c828> False\n",
            "<keras.layers.pooling.MaxPooling2D object at 0x7fc3e5a98c50> False\n",
            "<keras.layers.core.Flatten object at 0x7fc3e5a989b0> False\n",
            "<keras.layers.core.Dense object at 0x7fc3e5a44898> False\n",
            "<keras.layers.core.Dense object at 0x7fc3e5a5b898> False\n",
            "<keras.layers.core.Dense object at 0x7fc3e5a74630> True\n",
            "<keras.engine.input_layer.InputLayer object at 0x7fc4364e2cc0> False\n",
            "<keras.layers.convolutional.Conv2D object at 0x7fc4364ffa20> False\n",
            "<keras.layers.convolutional.Conv2D object at 0x7fc3f26899b0> False\n",
            "<keras.layers.pooling.MaxPooling2D object at 0x7fc3f22448d0> False\n",
            "<keras.layers.convolutional.Conv2D object at 0x7fc3f2244630> False\n",
            "<keras.layers.convolutional.Conv2D object at 0x7fc3f21f7400> False\n",
            "<keras.layers.pooling.MaxPooling2D object at 0x7fc3f218eac8> False\n",
            "<keras.layers.convolutional.Conv2D object at 0x7fc3f218e630> False\n",
            "<keras.layers.convolutional.Conv2D object at 0x7fc3f21b82e8> False\n",
            "<keras.layers.convolutional.Conv2D object at 0x7fc3f2151d30> False\n",
            "<keras.layers.convolutional.Conv2D object at 0x7fc3f217f630> False\n",
            "<keras.layers.pooling.MaxPooling2D object at 0x7fc3f2118da0> False\n",
            "<keras.layers.convolutional.Conv2D object at 0x7fc3f2118a58> False\n",
            "<keras.layers.convolutional.Conv2D object at 0x7fc3f2146940> False\n",
            "<keras.layers.convolutional.Conv2D object at 0x7fc3f20df470> False\n",
            "<keras.layers.convolutional.Conv2D object at 0x7fc3f21079e8> False\n",
            "<keras.layers.pooling.MaxPooling2D object at 0x7fc3f20bb160> False\n",
            "<keras.layers.convolutional.Conv2D object at 0x7fc3f20a6d68> False\n",
            "<keras.layers.convolutional.Conv2D object at 0x7fc3f2054d30> False\n",
            "<keras.layers.convolutional.Conv2D object at 0x7fc3f207f588> False\n",
            "<keras.layers.convolutional.Conv2D object at 0x7fc3f2018cf8> False\n",
            "<keras.layers.pooling.MaxPooling2D object at 0x7fc3f20435f8> False\n",
            "<keras.layers.core.Flatten object at 0x7fc3f2043160> True\n",
            "<keras.layers.core.Dense object at 0x7fc3f1fddd68> True\n",
            "<keras.layers.core.Dense object at 0x7fc3f1ff6ef0> True\n",
            "<keras.layers.core.Dense object at 0x7fc3f1f90630> True\n"
          ],
          "name": "stdout"
        }
      ]
    },
    {
      "cell_type": "code",
      "metadata": {
        "id": "tv0tmlNpEu_A",
        "colab_type": "code",
        "colab": {}
      },
      "source": [
        "from keras.preprocessing.image import ImageDataGenerator"
      ],
      "execution_count": 0,
      "outputs": []
    },
    {
      "cell_type": "code",
      "metadata": {
        "id": "M3_Vl_k2U3v3",
        "colab_type": "code",
        "outputId": "ba4cd0bb-cb96-4767-c51b-0925f995101d",
        "colab": {
          "resources": {
            "http://localhost:8080/nbextensions/google.colab/files.js": {
              "data": "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",
              "ok": true,
              "headers": [
                [
                  "content-type",
                  "application/javascript"
                ]
              ],
              "status": 200,
              "status_text": ""
            }
          },
          "base_uri": "https://localhost:8080/",
          "height": 74
        }
      },
      "source": [
        "from google.colab import files \n",
        "upload = files.upload()"
      ],
      "execution_count": 0,
      "outputs": [
        {
          "output_type": "display_data",
          "data": {
            "text/html": [
              "\n",
              "     <input type=\"file\" id=\"files-ebba0a5d-48f4-4cf1-888c-d034f1dc09a6\" name=\"files[]\" multiple disabled />\n",
              "     <output id=\"result-ebba0a5d-48f4-4cf1-888c-d034f1dc09a6\">\n",
              "      Upload widget is only available when the cell has been executed in the\n",
              "      current browser session. Please rerun this cell to enable.\n",
              "      </output>\n",
              "      <script src=\"/nbextensions/google.colab/files.js\"></script> "
            ],
            "text/plain": [
              "<IPython.core.display.HTML object>"
            ]
          },
          "metadata": {
            "tags": []
          }
        },
        {
          "output_type": "stream",
          "text": [
            "Saving New folder.zip to New folder.zip\n"
          ],
          "name": "stdout"
        }
      ]
    },
    {
      "cell_type": "code",
      "metadata": {
        "id": "lUUMgheAU9od",
        "colab_type": "code",
        "colab": {}
      },
      "source": [
        "zip_ref1 = zipfile.ZipFile('New folder.zip', 'r')\n",
        "zip_ref1.extractall()\n",
        "\n",
        "zip_ref1.close()"
      ],
      "execution_count": 0,
      "outputs": []
    },
    {
      "cell_type": "code",
      "metadata": {
        "id": "KPSqx8XmE1fE",
        "colab_type": "code",
        "outputId": "1946329e-8df8-4bfb-e1ab-5b15b9348f1a",
        "colab": {
          "base_uri": "https://localhost:8080/",
          "height": 71
        }
      },
      "source": [
        "datagen = ImageDataGenerator(rotation_range=90, width_shift_range=0.2, height_shift_range=0.2,horizontal_flip=True, vertical_flip=True,featurewise_center=True, featurewise_std_normalization=True,zca_whitening=True)"
      ],
      "execution_count": 0,
      "outputs": [
        {
          "output_type": "stream",
          "text": [
            "/usr/local/lib/python3.6/dist-packages/keras_preprocessing/image/image_data_generator.py:339: UserWarning: This ImageDataGenerator specifies `zca_whitening` which overrides setting of`featurewise_std_normalization`.\n",
            "  warnings.warn('This ImageDataGenerator specifies '\n"
          ],
          "name": "stderr"
        }
      ]
    },
    {
      "cell_type": "code",
      "metadata": {
        "id": "wTR3rb06E3Mc",
        "colab_type": "code",
        "outputId": "009bc131-1b9b-41a6-c49b-3d14168f87c8",
        "colab": {
          "base_uri": "https://localhost:8080/",
          "height": 34
        }
      },
      "source": [
        "train_gen = datagen.flow_from_directory('New folder/',target_size = (224,224),batch_size =2048)"
      ],
      "execution_count": 0,
      "outputs": [
        {
          "output_type": "stream",
          "text": [
            "Found 26 images belonging to 2 classes.\n"
          ],
          "name": "stdout"
        }
      ]
    },
    {
      "cell_type": "code",
      "metadata": {
        "id": "XiGNAMhRE5uk",
        "colab_type": "code",
        "outputId": "44158ed3-4e5a-427f-d18b-e600a313c76e",
        "colab": {
          "base_uri": "https://localhost:8080/",
          "height": 122
        }
      },
      "source": [
        "x = modelx.output\n",
        "x = Dense(512,activation= 'relu')(x)\n",
        "x = Dense(2,activation = 'softmax')(x)\n",
        "\n",
        "models1 = Model(input = modelx.input , output = x)\n",
        "models1.compile(loss = 'categorical_crossentropy' , optimizer =SGD(),metrics =['acc'])\n",
        "\n",
        "y = modely.output\n",
        "y = Dense(512,activation= 'relu')(y)\n",
        "y = Dense(2,activation = 'softmax')(y)\n",
        "\n",
        "models2 = Model(input = modely.input , output = y)\n",
        "models2.compile(loss = 'categorical_crossentropy' , optimizer =SGD(),metrics =['acc'])\n",
        "\n",
        "z = modelz.output\n",
        "z = Dense(512,activation= 'relu')(z)\n",
        "z = Dense(2,activation = 'softmax')(z)\n",
        "\n",
        "models3 = Model(input = modelz.input , output = z)\n",
        "models3.compile(loss = 'categorical_crossentropy' , optimizer =SGD(),metrics =['acc'])\n",
        "\n"
      ],
      "execution_count": 0,
      "outputs": [
        {
          "output_type": "stream",
          "text": [
            "/usr/local/lib/python3.6/dist-packages/ipykernel_launcher.py:5: UserWarning: Update your `Model` call to the Keras 2 API: `Model(inputs=Tensor(\"in..., outputs=Tensor(\"de...)`\n",
            "  \"\"\"\n",
            "/usr/local/lib/python3.6/dist-packages/ipykernel_launcher.py:12: UserWarning: Update your `Model` call to the Keras 2 API: `Model(inputs=Tensor(\"in..., outputs=Tensor(\"de...)`\n",
            "  if sys.path[0] == '':\n",
            "/usr/local/lib/python3.6/dist-packages/ipykernel_launcher.py:19: UserWarning: Update your `Model` call to the Keras 2 API: `Model(inputs=Tensor(\"in..., outputs=Tensor(\"de...)`\n"
          ],
          "name": "stderr"
        }
      ]
    },
    {
      "cell_type": "code",
      "metadata": {
        "id": "7hhPLMaFE9a0",
        "colab_type": "code",
        "outputId": "a93e037b-8160-426c-837e-d3fec2393908",
        "colab": {
          "base_uri": "https://localhost:8080/",
          "height": 1254
        }
      },
      "source": [
        "models1.fit_generator(train_gen,epochs =5,steps_per_epoch=128)\n",
        "models2.fit_generator(train_gen,epochs =5,steps_per_epoch=128)\n",
        "models3.fit_generator(train_gen,epochs =5,steps_per_epoch=128)\n"
      ],
      "execution_count": 0,
      "outputs": [
        {
          "output_type": "stream",
          "text": [
            "Epoch 1/5\n"
          ],
          "name": "stdout"
        },
        {
          "output_type": "stream",
          "text": [
            "/usr/local/lib/python3.6/dist-packages/keras_preprocessing/image/image_data_generator.py:699: UserWarning: This ImageDataGenerator specifies `featurewise_center`, but it hasn't been fit on any training data. Fit it first by calling `.fit(numpy_data)`.\n",
            "  warnings.warn('This ImageDataGenerator specifies '\n",
            "/usr/local/lib/python3.6/dist-packages/keras_preprocessing/image/image_data_generator.py:718: UserWarning: This ImageDataGenerator specifies `zca_whitening`, but it hasn't been fit on any training data. Fit it first by calling `.fit(numpy_data)`.\n",
            "  warnings.warn('This ImageDataGenerator specifies '\n"
          ],
          "name": "stderr"
        },
        {
          "output_type": "stream",
          "text": [
            "128/128 [==============================] - 103s 804ms/step - loss: 0.6607 - acc: 0.6550\n",
            "Epoch 2/5\n",
            "128/128 [==============================] - 93s 729ms/step - loss: 0.6306 - acc: 0.6538\n",
            "Epoch 3/5\n",
            "128/128 [==============================] - 89s 698ms/step - loss: 0.6065 - acc: 0.6538\n",
            "Epoch 4/5\n",
            "109/128 [========================>.....] - ETA: 13s - loss: 0.5695 - acc: 0.6538"
          ],
          "name": "stdout"
        },
        {
          "output_type": "error",
          "ename": "KeyboardInterrupt",
          "evalue": "ignored",
          "traceback": [
            "\u001b[0;31m---------------------------------------------------------------------------\u001b[0m",
            "\u001b[0;31mKeyboardInterrupt\u001b[0m                         Traceback (most recent call last)",
            "\u001b[0;32m<ipython-input-27-e89c5a1bf9e8>\u001b[0m in \u001b[0;36m<module>\u001b[0;34m()\u001b[0m\n\u001b[0;32m----> 1\u001b[0;31m \u001b[0mmodels1\u001b[0m\u001b[0;34m.\u001b[0m\u001b[0mfit_generator\u001b[0m\u001b[0;34m(\u001b[0m\u001b[0mtrain_gen\u001b[0m\u001b[0;34m,\u001b[0m\u001b[0mepochs\u001b[0m \u001b[0;34m=\u001b[0m\u001b[0;36m5\u001b[0m\u001b[0;34m,\u001b[0m\u001b[0msteps_per_epoch\u001b[0m\u001b[0;34m=\u001b[0m\u001b[0;36m128\u001b[0m\u001b[0;34m)\u001b[0m\u001b[0;34m\u001b[0m\u001b[0;34m\u001b[0m\u001b[0m\n\u001b[0m\u001b[1;32m      2\u001b[0m \u001b[0mmodels2\u001b[0m\u001b[0;34m.\u001b[0m\u001b[0mfit_generator\u001b[0m\u001b[0;34m(\u001b[0m\u001b[0mtrain_gen\u001b[0m\u001b[0;34m,\u001b[0m\u001b[0mepochs\u001b[0m \u001b[0;34m=\u001b[0m\u001b[0;36m5\u001b[0m\u001b[0;34m,\u001b[0m\u001b[0msteps_per_epoch\u001b[0m\u001b[0;34m=\u001b[0m\u001b[0;36m128\u001b[0m\u001b[0;34m)\u001b[0m\u001b[0;34m\u001b[0m\u001b[0;34m\u001b[0m\u001b[0m\n\u001b[1;32m      3\u001b[0m \u001b[0mmodels3\u001b[0m\u001b[0;34m.\u001b[0m\u001b[0mfit_generator\u001b[0m\u001b[0;34m(\u001b[0m\u001b[0mtrain_gen\u001b[0m\u001b[0;34m,\u001b[0m\u001b[0mepochs\u001b[0m \u001b[0;34m=\u001b[0m\u001b[0;36m5\u001b[0m\u001b[0;34m,\u001b[0m\u001b[0msteps_per_epoch\u001b[0m\u001b[0;34m=\u001b[0m\u001b[0;36m128\u001b[0m\u001b[0;34m)\u001b[0m\u001b[0;34m\u001b[0m\u001b[0;34m\u001b[0m\u001b[0m\n",
            "\u001b[0;32m/usr/local/lib/python3.6/dist-packages/keras/legacy/interfaces.py\u001b[0m in \u001b[0;36mwrapper\u001b[0;34m(*args, **kwargs)\u001b[0m\n\u001b[1;32m     89\u001b[0m                 warnings.warn('Update your `' + object_name + '` call to the ' +\n\u001b[1;32m     90\u001b[0m                               'Keras 2 API: ' + signature, stacklevel=2)\n\u001b[0;32m---> 91\u001b[0;31m             \u001b[0;32mreturn\u001b[0m \u001b[0mfunc\u001b[0m\u001b[0;34m(\u001b[0m\u001b[0;34m*\u001b[0m\u001b[0margs\u001b[0m\u001b[0;34m,\u001b[0m \u001b[0;34m**\u001b[0m\u001b[0mkwargs\u001b[0m\u001b[0;34m)\u001b[0m\u001b[0;34m\u001b[0m\u001b[0;34m\u001b[0m\u001b[0m\n\u001b[0m\u001b[1;32m     92\u001b[0m         \u001b[0mwrapper\u001b[0m\u001b[0;34m.\u001b[0m\u001b[0m_original_function\u001b[0m \u001b[0;34m=\u001b[0m \u001b[0mfunc\u001b[0m\u001b[0;34m\u001b[0m\u001b[0;34m\u001b[0m\u001b[0m\n\u001b[1;32m     93\u001b[0m         \u001b[0;32mreturn\u001b[0m \u001b[0mwrapper\u001b[0m\u001b[0;34m\u001b[0m\u001b[0;34m\u001b[0m\u001b[0m\n",
            "\u001b[0;32m/usr/local/lib/python3.6/dist-packages/keras/engine/training.py\u001b[0m in \u001b[0;36mfit_generator\u001b[0;34m(self, generator, steps_per_epoch, epochs, verbose, callbacks, validation_data, validation_steps, class_weight, max_queue_size, workers, use_multiprocessing, shuffle, initial_epoch)\u001b[0m\n\u001b[1;32m   1416\u001b[0m             \u001b[0muse_multiprocessing\u001b[0m\u001b[0;34m=\u001b[0m\u001b[0muse_multiprocessing\u001b[0m\u001b[0;34m,\u001b[0m\u001b[0;34m\u001b[0m\u001b[0;34m\u001b[0m\u001b[0m\n\u001b[1;32m   1417\u001b[0m             \u001b[0mshuffle\u001b[0m\u001b[0;34m=\u001b[0m\u001b[0mshuffle\u001b[0m\u001b[0;34m,\u001b[0m\u001b[0;34m\u001b[0m\u001b[0;34m\u001b[0m\u001b[0m\n\u001b[0;32m-> 1418\u001b[0;31m             initial_epoch=initial_epoch)\n\u001b[0m\u001b[1;32m   1419\u001b[0m \u001b[0;34m\u001b[0m\u001b[0m\n\u001b[1;32m   1420\u001b[0m     \u001b[0;34m@\u001b[0m\u001b[0minterfaces\u001b[0m\u001b[0;34m.\u001b[0m\u001b[0mlegacy_generator_methods_support\u001b[0m\u001b[0;34m\u001b[0m\u001b[0;34m\u001b[0m\u001b[0m\n",
            "\u001b[0;32m/usr/local/lib/python3.6/dist-packages/keras/engine/training_generator.py\u001b[0m in \u001b[0;36mfit_generator\u001b[0;34m(model, generator, steps_per_epoch, epochs, verbose, callbacks, validation_data, validation_steps, class_weight, max_queue_size, workers, use_multiprocessing, shuffle, initial_epoch)\u001b[0m\n\u001b[1;32m    215\u001b[0m                 outs = model.train_on_batch(x, y,\n\u001b[1;32m    216\u001b[0m                                             \u001b[0msample_weight\u001b[0m\u001b[0;34m=\u001b[0m\u001b[0msample_weight\u001b[0m\u001b[0;34m,\u001b[0m\u001b[0;34m\u001b[0m\u001b[0;34m\u001b[0m\u001b[0m\n\u001b[0;32m--> 217\u001b[0;31m                                             class_weight=class_weight)\n\u001b[0m\u001b[1;32m    218\u001b[0m \u001b[0;34m\u001b[0m\u001b[0m\n\u001b[1;32m    219\u001b[0m                 \u001b[0mouts\u001b[0m \u001b[0;34m=\u001b[0m \u001b[0mto_list\u001b[0m\u001b[0;34m(\u001b[0m\u001b[0mouts\u001b[0m\u001b[0;34m)\u001b[0m\u001b[0;34m\u001b[0m\u001b[0;34m\u001b[0m\u001b[0m\n",
            "\u001b[0;32m/usr/local/lib/python3.6/dist-packages/keras/engine/training.py\u001b[0m in \u001b[0;36mtrain_on_batch\u001b[0;34m(self, x, y, sample_weight, class_weight)\u001b[0m\n\u001b[1;32m   1215\u001b[0m             \u001b[0mins\u001b[0m \u001b[0;34m=\u001b[0m \u001b[0mx\u001b[0m \u001b[0;34m+\u001b[0m \u001b[0my\u001b[0m \u001b[0;34m+\u001b[0m \u001b[0msample_weights\u001b[0m\u001b[0;34m\u001b[0m\u001b[0;34m\u001b[0m\u001b[0m\n\u001b[1;32m   1216\u001b[0m         \u001b[0mself\u001b[0m\u001b[0;34m.\u001b[0m\u001b[0m_make_train_function\u001b[0m\u001b[0;34m(\u001b[0m\u001b[0;34m)\u001b[0m\u001b[0;34m\u001b[0m\u001b[0;34m\u001b[0m\u001b[0m\n\u001b[0;32m-> 1217\u001b[0;31m         \u001b[0moutputs\u001b[0m \u001b[0;34m=\u001b[0m \u001b[0mself\u001b[0m\u001b[0;34m.\u001b[0m\u001b[0mtrain_function\u001b[0m\u001b[0;34m(\u001b[0m\u001b[0mins\u001b[0m\u001b[0;34m)\u001b[0m\u001b[0;34m\u001b[0m\u001b[0;34m\u001b[0m\u001b[0m\n\u001b[0m\u001b[1;32m   1218\u001b[0m         \u001b[0;32mreturn\u001b[0m \u001b[0munpack_singleton\u001b[0m\u001b[0;34m(\u001b[0m\u001b[0moutputs\u001b[0m\u001b[0;34m)\u001b[0m\u001b[0;34m\u001b[0m\u001b[0;34m\u001b[0m\u001b[0m\n\u001b[1;32m   1219\u001b[0m \u001b[0;34m\u001b[0m\u001b[0m\n",
            "\u001b[0;32m/usr/local/lib/python3.6/dist-packages/keras/backend/tensorflow_backend.py\u001b[0m in \u001b[0;36m__call__\u001b[0;34m(self, inputs)\u001b[0m\n\u001b[1;32m   2713\u001b[0m                 \u001b[0;32mreturn\u001b[0m \u001b[0mself\u001b[0m\u001b[0;34m.\u001b[0m\u001b[0m_legacy_call\u001b[0m\u001b[0;34m(\u001b[0m\u001b[0minputs\u001b[0m\u001b[0;34m)\u001b[0m\u001b[0;34m\u001b[0m\u001b[0;34m\u001b[0m\u001b[0m\n\u001b[1;32m   2714\u001b[0m \u001b[0;34m\u001b[0m\u001b[0m\n\u001b[0;32m-> 2715\u001b[0;31m             \u001b[0;32mreturn\u001b[0m \u001b[0mself\u001b[0m\u001b[0;34m.\u001b[0m\u001b[0m_call\u001b[0m\u001b[0;34m(\u001b[0m\u001b[0minputs\u001b[0m\u001b[0;34m)\u001b[0m\u001b[0;34m\u001b[0m\u001b[0;34m\u001b[0m\u001b[0m\n\u001b[0m\u001b[1;32m   2716\u001b[0m         \u001b[0;32melse\u001b[0m\u001b[0;34m:\u001b[0m\u001b[0;34m\u001b[0m\u001b[0;34m\u001b[0m\u001b[0m\n\u001b[1;32m   2717\u001b[0m             \u001b[0;32mif\u001b[0m \u001b[0mpy_any\u001b[0m\u001b[0;34m(\u001b[0m\u001b[0mis_tensor\u001b[0m\u001b[0;34m(\u001b[0m\u001b[0mx\u001b[0m\u001b[0;34m)\u001b[0m \u001b[0;32mfor\u001b[0m \u001b[0mx\u001b[0m \u001b[0;32min\u001b[0m \u001b[0minputs\u001b[0m\u001b[0;34m)\u001b[0m\u001b[0;34m:\u001b[0m\u001b[0;34m\u001b[0m\u001b[0;34m\u001b[0m\u001b[0m\n",
            "\u001b[0;32m/usr/local/lib/python3.6/dist-packages/keras/backend/tensorflow_backend.py\u001b[0m in \u001b[0;36m_call\u001b[0;34m(self, inputs)\u001b[0m\n\u001b[1;32m   2673\u001b[0m             \u001b[0mfetched\u001b[0m \u001b[0;34m=\u001b[0m \u001b[0mself\u001b[0m\u001b[0;34m.\u001b[0m\u001b[0m_callable_fn\u001b[0m\u001b[0;34m(\u001b[0m\u001b[0;34m*\u001b[0m\u001b[0marray_vals\u001b[0m\u001b[0;34m,\u001b[0m \u001b[0mrun_metadata\u001b[0m\u001b[0;34m=\u001b[0m\u001b[0mself\u001b[0m\u001b[0;34m.\u001b[0m\u001b[0mrun_metadata\u001b[0m\u001b[0;34m)\u001b[0m\u001b[0;34m\u001b[0m\u001b[0;34m\u001b[0m\u001b[0m\n\u001b[1;32m   2674\u001b[0m         \u001b[0;32melse\u001b[0m\u001b[0;34m:\u001b[0m\u001b[0;34m\u001b[0m\u001b[0;34m\u001b[0m\u001b[0m\n\u001b[0;32m-> 2675\u001b[0;31m             \u001b[0mfetched\u001b[0m \u001b[0;34m=\u001b[0m \u001b[0mself\u001b[0m\u001b[0;34m.\u001b[0m\u001b[0m_callable_fn\u001b[0m\u001b[0;34m(\u001b[0m\u001b[0;34m*\u001b[0m\u001b[0marray_vals\u001b[0m\u001b[0;34m)\u001b[0m\u001b[0;34m\u001b[0m\u001b[0;34m\u001b[0m\u001b[0m\n\u001b[0m\u001b[1;32m   2676\u001b[0m         \u001b[0;32mreturn\u001b[0m \u001b[0mfetched\u001b[0m\u001b[0;34m[\u001b[0m\u001b[0;34m:\u001b[0m\u001b[0mlen\u001b[0m\u001b[0;34m(\u001b[0m\u001b[0mself\u001b[0m\u001b[0;34m.\u001b[0m\u001b[0moutputs\u001b[0m\u001b[0;34m)\u001b[0m\u001b[0;34m]\u001b[0m\u001b[0;34m\u001b[0m\u001b[0;34m\u001b[0m\u001b[0m\n\u001b[1;32m   2677\u001b[0m \u001b[0;34m\u001b[0m\u001b[0m\n",
            "\u001b[0;32m/usr/local/lib/python3.6/dist-packages/tensorflow/python/client/session.py\u001b[0m in \u001b[0;36m__call__\u001b[0;34m(self, *args, **kwargs)\u001b[0m\n\u001b[1;32m   1437\u001b[0m           ret = tf_session.TF_SessionRunCallable(\n\u001b[1;32m   1438\u001b[0m               \u001b[0mself\u001b[0m\u001b[0;34m.\u001b[0m\u001b[0m_session\u001b[0m\u001b[0;34m.\u001b[0m\u001b[0m_session\u001b[0m\u001b[0;34m,\u001b[0m \u001b[0mself\u001b[0m\u001b[0;34m.\u001b[0m\u001b[0m_handle\u001b[0m\u001b[0;34m,\u001b[0m \u001b[0margs\u001b[0m\u001b[0;34m,\u001b[0m \u001b[0mstatus\u001b[0m\u001b[0;34m,\u001b[0m\u001b[0;34m\u001b[0m\u001b[0;34m\u001b[0m\u001b[0m\n\u001b[0;32m-> 1439\u001b[0;31m               run_metadata_ptr)\n\u001b[0m\u001b[1;32m   1440\u001b[0m         \u001b[0;32mif\u001b[0m \u001b[0mrun_metadata\u001b[0m\u001b[0;34m:\u001b[0m\u001b[0;34m\u001b[0m\u001b[0;34m\u001b[0m\u001b[0m\n\u001b[1;32m   1441\u001b[0m           \u001b[0mproto_data\u001b[0m \u001b[0;34m=\u001b[0m \u001b[0mtf_session\u001b[0m\u001b[0;34m.\u001b[0m\u001b[0mTF_GetBuffer\u001b[0m\u001b[0;34m(\u001b[0m\u001b[0mrun_metadata_ptr\u001b[0m\u001b[0;34m)\u001b[0m\u001b[0;34m\u001b[0m\u001b[0;34m\u001b[0m\u001b[0m\n",
            "\u001b[0;31mKeyboardInterrupt\u001b[0m: "
          ]
        }
      ]
    },
    {
      "cell_type": "code",
      "metadata": {
        "id": "mvoBA2P-FHmF",
        "colab_type": "code",
        "outputId": "c38a14ab-e004-43a9-f73a-eb9695269e8b",
        "colab": {
          "base_uri": "https://localhost:8080/",
          "height": 34
        }
      },
      "source": [
        "import tensorflow as tf\n",
        "device_name = tf.test.gpu_device_name()\n",
        "if device_name != '/device:GPU:0':\n",
        "    raise SystemError('GPU device not found')\n",
        "print('Found GPU at: {}'.format(device_name))"
      ],
      "execution_count": 0,
      "outputs": [
        {
          "output_type": "stream",
          "text": [
            "Found GPU at: /device:GPU:0\n"
          ],
          "name": "stdout"
        }
      ]
    },
    {
      "cell_type": "code",
      "metadata": {
        "id": "vLjs7GXSUbnp",
        "colab_type": "code",
        "colab": {}
      },
      "source": [
        "from keras.models import Sequential"
      ],
      "execution_count": 0,
      "outputs": []
    },
    {
      "cell_type": "code",
      "metadata": {
        "id": "jpunbFCBXMbm",
        "colab_type": "code",
        "colab": {}
      },
      "source": [
        "modelseq = Sequential"
      ],
      "execution_count": 0,
      "outputs": []
    },
    {
      "cell_type": "code",
      "metadata": {
        "id": "8rUbCUxYXOv1",
        "colab_type": "code",
        "colab": {}
      },
      "source": [
        "from keras.layers import Convolution2D as Conv2D ,MaxPooling2D as maxpool"
      ],
      "execution_count": 0,
      "outputs": []
    },
    {
      "cell_type": "code",
      "metadata": {
        "id": "vetkxNutXj3I",
        "colab_type": "code",
        "outputId": "98e25781-48ea-4d2f-a4e9-dd6dbeda220b",
        "colab": {
          "base_uri": "https://localhost:8080/",
          "height": 316
        }
      },
      "source": [
        "modelseq.add(conv2d(32,input_shape = (224,224),activation = 'relu'))\n",
        "modelseq.add(maxpool(x = 2,k = 2))\n",
        "\n"
      ],
      "execution_count": 0,
      "outputs": [
        {
          "output_type": "error",
          "ename": "TypeError",
          "evalue": "ignored",
          "traceback": [
            "\u001b[0;31m---------------------------------------------------------------------------\u001b[0m",
            "\u001b[0;31mTypeError\u001b[0m                                 Traceback (most recent call last)",
            "\u001b[0;32m<ipython-input-44-027d6eb622d8>\u001b[0m in \u001b[0;36m<module>\u001b[0;34m()\u001b[0m\n\u001b[0;32m----> 1\u001b[0;31m \u001b[0mmodelseq\u001b[0m\u001b[0;34m.\u001b[0m\u001b[0madd\u001b[0m\u001b[0;34m(\u001b[0m\u001b[0mconv2d\u001b[0m\u001b[0;34m(\u001b[0m\u001b[0;36m32\u001b[0m\u001b[0;34m,\u001b[0m\u001b[0minput_shape\u001b[0m \u001b[0;34m=\u001b[0m \u001b[0;34m(\u001b[0m\u001b[0;36m224\u001b[0m\u001b[0;34m,\u001b[0m\u001b[0;36m224\u001b[0m\u001b[0;34m)\u001b[0m\u001b[0;34m,\u001b[0m\u001b[0mactivation\u001b[0m \u001b[0;34m=\u001b[0m \u001b[0;34m'relu'\u001b[0m\u001b[0;34m)\u001b[0m\u001b[0;34m)\u001b[0m\u001b[0;34m\u001b[0m\u001b[0;34m\u001b[0m\u001b[0m\n\u001b[0m\u001b[1;32m      2\u001b[0m \u001b[0mmodelseq\u001b[0m\u001b[0;34m.\u001b[0m\u001b[0madd\u001b[0m\u001b[0;34m(\u001b[0m\u001b[0mmaxpool\u001b[0m\u001b[0;34m(\u001b[0m\u001b[0mx\u001b[0m \u001b[0;34m=\u001b[0m \u001b[0;36m2\u001b[0m\u001b[0;34m,\u001b[0m\u001b[0mk\u001b[0m \u001b[0;34m=\u001b[0m \u001b[0;36m2\u001b[0m\u001b[0;34m)\u001b[0m\u001b[0;34m)\u001b[0m\u001b[0;34m\u001b[0m\u001b[0;34m\u001b[0m\u001b[0m\n\u001b[1;32m      3\u001b[0m \u001b[0;34m\u001b[0m\u001b[0m\n",
            "\u001b[0;32m/usr/local/lib/python3.6/dist-packages/keras/legacy/interfaces.py\u001b[0m in \u001b[0;36mwrapper\u001b[0;34m(*args, **kwargs)\u001b[0m\n\u001b[1;32m     89\u001b[0m                 warnings.warn('Update your `' + object_name + '` call to the ' +\n\u001b[1;32m     90\u001b[0m                               'Keras 2 API: ' + signature, stacklevel=2)\n\u001b[0;32m---> 91\u001b[0;31m             \u001b[0;32mreturn\u001b[0m \u001b[0mfunc\u001b[0m\u001b[0;34m(\u001b[0m\u001b[0;34m*\u001b[0m\u001b[0margs\u001b[0m\u001b[0;34m,\u001b[0m \u001b[0;34m**\u001b[0m\u001b[0mkwargs\u001b[0m\u001b[0;34m)\u001b[0m\u001b[0;34m\u001b[0m\u001b[0;34m\u001b[0m\u001b[0m\n\u001b[0m\u001b[1;32m     92\u001b[0m         \u001b[0mwrapper\u001b[0m\u001b[0;34m.\u001b[0m\u001b[0m_original_function\u001b[0m \u001b[0;34m=\u001b[0m \u001b[0mfunc\u001b[0m\u001b[0;34m\u001b[0m\u001b[0;34m\u001b[0m\u001b[0m\n\u001b[1;32m     93\u001b[0m         \u001b[0;32mreturn\u001b[0m \u001b[0mwrapper\u001b[0m\u001b[0;34m\u001b[0m\u001b[0;34m\u001b[0m\u001b[0m\n",
            "\u001b[0;31mTypeError\u001b[0m: __init__() missing 1 required positional argument: 'kernel_size'"
          ]
        }
      ]
    },
    {
      "cell_type": "code",
      "metadata": {
        "id": "-Buf6T3SXvq0",
        "colab_type": "code",
        "outputId": "1cf044ac-5155-425e-9eb8-3f2061edde77",
        "colab": {
          "base_uri": "https://localhost:8080/",
          "height": 231
        }
      },
      "source": [
        "\n",
        "\n",
        "\n",
        "\n",
        "\n",
        "from keras.models import Sequential\n",
        "#create model\n",
        "modelseq1 = Sequential()\n",
        "#add model layers\n",
        "modelseq1.add(Conv2D(64, kernel_size=3, activation= 'relu' , input_shape=(224,224,3)))\n",
        "modelseq1.add(maxpool(pool_size =2))\n",
        "modelseq1.add(Conv2D(128, kernel_size=3, activation='relu'))\n",
        "modelseq1.add(maxpool(pool_size =2))\n",
        "\n",
        "modelseq1.add(Conv2D(256, kernel_size=3, activation='relu'))\n",
        "\n",
        "modelseq1.add(maxpool(pool_size =2))\n",
        "modelseq1.add(Flatten())\n",
        "modelseq1.add(Dense(2, activation='softmax'))"
      ],
      "execution_count": 0,
      "outputs": [
        {
          "output_type": "error",
          "ename": "NameError",
          "evalue": "ignored",
          "traceback": [
            "\u001b[0;31m---------------------------------------------------------------------------\u001b[0m",
            "\u001b[0;31mNameError\u001b[0m                                 Traceback (most recent call last)",
            "\u001b[0;32m<ipython-input-30-03f0d7584376>\u001b[0m in \u001b[0;36m<module>\u001b[0;34m()\u001b[0m\n\u001b[1;32m      8\u001b[0m \u001b[0mmodelseq1\u001b[0m \u001b[0;34m=\u001b[0m \u001b[0mSequential\u001b[0m\u001b[0;34m(\u001b[0m\u001b[0;34m)\u001b[0m\u001b[0;34m\u001b[0m\u001b[0;34m\u001b[0m\u001b[0m\n\u001b[1;32m      9\u001b[0m \u001b[0;31m#add model layers\u001b[0m\u001b[0;34m\u001b[0m\u001b[0;34m\u001b[0m\u001b[0;34m\u001b[0m\u001b[0m\n\u001b[0;32m---> 10\u001b[0;31m \u001b[0mmodelseq1\u001b[0m\u001b[0;34m.\u001b[0m\u001b[0madd\u001b[0m\u001b[0;34m(\u001b[0m\u001b[0mConv2D\u001b[0m\u001b[0;34m(\u001b[0m\u001b[0;36m64\u001b[0m\u001b[0;34m,\u001b[0m \u001b[0mkernel_size\u001b[0m\u001b[0;34m=\u001b[0m\u001b[0;36m3\u001b[0m\u001b[0;34m,\u001b[0m \u001b[0mactivation\u001b[0m\u001b[0;34m=\u001b[0m \u001b[0;34m'relu'\u001b[0m \u001b[0;34m,\u001b[0m \u001b[0minput_shape\u001b[0m\u001b[0;34m=\u001b[0m\u001b[0;34m(\u001b[0m\u001b[0;36m224\u001b[0m\u001b[0;34m,\u001b[0m\u001b[0;36m224\u001b[0m\u001b[0;34m,\u001b[0m\u001b[0;36m3\u001b[0m\u001b[0;34m)\u001b[0m\u001b[0;34m)\u001b[0m\u001b[0;34m)\u001b[0m\u001b[0;34m\u001b[0m\u001b[0;34m\u001b[0m\u001b[0m\n\u001b[0m\u001b[1;32m     11\u001b[0m \u001b[0mmodelseq1\u001b[0m\u001b[0;34m.\u001b[0m\u001b[0madd\u001b[0m\u001b[0;34m(\u001b[0m\u001b[0mmaxpool\u001b[0m\u001b[0;34m(\u001b[0m\u001b[0mpool_size\u001b[0m \u001b[0;34m=\u001b[0m\u001b[0;36m2\u001b[0m\u001b[0;34m)\u001b[0m\u001b[0;34m)\u001b[0m\u001b[0;34m\u001b[0m\u001b[0;34m\u001b[0m\u001b[0m\n\u001b[1;32m     12\u001b[0m \u001b[0mmodelseq1\u001b[0m\u001b[0;34m.\u001b[0m\u001b[0madd\u001b[0m\u001b[0;34m(\u001b[0m\u001b[0mConv2D\u001b[0m\u001b[0;34m(\u001b[0m\u001b[0;36m128\u001b[0m\u001b[0;34m,\u001b[0m \u001b[0mkernel_size\u001b[0m\u001b[0;34m=\u001b[0m\u001b[0;36m3\u001b[0m\u001b[0;34m,\u001b[0m \u001b[0mactivation\u001b[0m\u001b[0;34m=\u001b[0m\u001b[0;34m'relu'\u001b[0m\u001b[0;34m)\u001b[0m\u001b[0;34m)\u001b[0m\u001b[0;34m\u001b[0m\u001b[0;34m\u001b[0m\u001b[0m\n",
            "\u001b[0;31mNameError\u001b[0m: name 'Conv2D' is not defined"
          ]
        }
      ]
    },
    {
      "cell_type": "code",
      "metadata": {
        "id": "9Pp_OTOOagTa",
        "colab_type": "code",
        "colab": {}
      },
      "source": [
        "modelseq1.compile(optimizer=SGD(), loss='categorical_crossentropy', metrics=['accuracy'])"
      ],
      "execution_count": 0,
      "outputs": []
    },
    {
      "cell_type": "code",
      "metadata": {
        "id": "uJyUGUSOa6r8",
        "colab_type": "code",
        "colab": {}
      },
      "source": [
        "modelseq1.fit_generator(train_gen,epochs =2,steps_per_epoch=256)"
      ],
      "execution_count": 0,
      "outputs": []
    },
    {
      "cell_type": "code",
      "metadata": {
        "id": "ZTK-yX6VbECr",
        "colab_type": "code",
        "colab": {}
      },
      "source": [
        "y = "
      ],
      "execution_count": 0,
      "outputs": []
    },
    {
      "cell_type": "code",
      "metadata": {
        "id": "9Ho12mfBd153",
        "colab_type": "code",
        "colab": {}
      },
      "source": [
        "\n",
        "model2 = Model(input = models.input, output = modelseq1.output)"
      ],
      "execution_count": 0,
      "outputs": []
    },
    {
      "cell_type": "code",
      "metadata": {
        "id": "HvBZT5YveSVc",
        "colab_type": "code",
        "colab": {}
      },
      "source": [
        ""
      ],
      "execution_count": 0,
      "outputs": []
    }
  ]
}